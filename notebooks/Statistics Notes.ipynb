{
 "cells": [
  {
   "cell_type": "code",
   "execution_count": 1,
   "metadata": {},
   "outputs": [
    {
     "name": "stdout",
     "output_type": "stream",
     "text": [
      "indices 18,19\n",
      "values 18,19\n",
      "The 31 percentile is 18.53\n",
      "The 31 percentile of the data is index 19.53 which is value 18.53\n"
     ]
    }
   ],
   "source": [
    "# Calculate the percentile\n",
    "\n",
    "# Formula is: \n",
    "# P = (n + 1) * p/100\n",
    "\n",
    "data = range(62)\n",
    "count = len(data)\n",
    "percentile = 31\n",
    "\n",
    "index = (count + 1) * percentile / 100\n",
    "index_a = int(index) - 1\n",
    "index_b = int(index)\n",
    "\n",
    "print(f'indices {index_a},{index_b}')\n",
    "\n",
    "value_a = data[index_a]\n",
    "value_b = data[index_b]\n",
    "\n",
    "print(f'values {value_a},{value_b}')\n",
    "\n",
    "vector = (value_b - value_a)\n",
    "distance = value_a + (index - int(index))\n",
    "result =  distance * vector\n",
    "\n",
    "print(f'The {percentile} percentile is {result}')\n",
    "print(f'The {percentile} percentile of the data is index {index} which is value {result}')"
   ]
  },
  {
   "cell_type": "code",
   "execution_count": 2,
   "metadata": {},
   "outputs": [
    {
     "name": "stdout",
     "output_type": "stream",
     "text": [
      "mean 5.0\n",
      "Sum of squared differences 32.0\n",
      "variance 4.571428571428571\n",
      "Standard deviation 2.138089935299395\n",
      "Coefficient of varition is 0.427617987059879\n"
     ]
    }
   ],
   "source": [
    "# Standard Deviation and variance\n",
    "import math\n",
    "\n",
    "data = [727.7, 1086.5, 1091.0, 1361.3, 1490.5, 1956.1]\n",
    "data = [2, 4, 4, 4, 5, 5, 7, 9]\n",
    "#data = [8.3, -6.2, 20.9, -2.7, 33.6, 42.9, 24.4, 5.2, 3.1, 30.5]\n",
    "count = len(data)\n",
    "\n",
    "# Step A calculate the mean\n",
    "# mean = count / sum(data)\n",
    "\n",
    "mean = sum(data) / count\n",
    "print(f'mean {mean}')\n",
    "\n",
    "sum_of_sqrd_differences = sum([math.pow((x - mean), 2) for x in data])\n",
    "variance = 1/(count-1) * sum_of_sqrd_differences\n",
    "deviation = math.sqrt(variance)\n",
    "print(f'Sum of squared differences {sum_of_sqrd_differences}')\n",
    "print(f'variance {variance}')\n",
    "print(f'Standard deviation {deviation}')\n",
    "\n",
    "# coefficient of variation\n",
    "\n",
    "CV = deviation / mean\n",
    "print(f'Coefficient of varition is {CV}')"
   ]
  },
  {
   "cell_type": "code",
   "execution_count": 3,
   "metadata": {},
   "outputs": [
    {
     "data": {
      "text/plain": [
       "64"
      ]
     },
     "execution_count": 3,
     "metadata": {},
     "output_type": "execute_result"
    }
   ],
   "source": [
    "8**2"
   ]
  },
  {
   "cell_type": "code",
   "execution_count": 4,
   "metadata": {},
   "outputs": [
    {
     "name": "stdout",
     "output_type": "stream",
     "text": [
      "Mean 49.0\n",
      "Variance 1605.0\n",
      "Standard deviation 40.06245124802026\n",
      "Coeffient of variation 0.8176010458779644\n",
      "Covariance of data set a and b 187.74999999999997\n",
      "correlation_coefficient of data set a and b 0.25521056226004085\n"
     ]
    }
   ],
   "source": [
    "# Toggle to zero if this is a population\n",
    "sampled = 1\n",
    "\n",
    "def mean(data):\n",
    "    count = len(data)\n",
    "    mean = sum(data) / count\n",
    "    return mean\n",
    "\n",
    "def variance(data):\n",
    "    count = len(data)\n",
    "    sum_of_squared_differences = sum([(x - mean(data))**2 for x in data])\n",
    "    variance = 1 / (count - sampled) * sum_of_squared_differences\n",
    "    return variance\n",
    "\n",
    "def standard_deviation(data):\n",
    "    _variance = variance(data)\n",
    "    std_deviation = math.sqrt(_variance)\n",
    "    return std_deviation\n",
    "\n",
    "def coefficient_of_variation(data):\n",
    "    ''' CV = deviation / mean '''\n",
    "    std_dev = standard_deviation(data)\n",
    "    _mean = mean(data)\n",
    "    return std_dev / _mean\n",
    "\n",
    "def covariance(data_a, data_b):\n",
    "    count = len(data_a)\n",
    "    mean_a = mean(data_a)\n",
    "    mean_b = mean(data_b)\n",
    "    \n",
    "    mean_differences = []\n",
    "    for x, y in zip(data_a, data_b):\n",
    "        mean_differences.append((x - mean_a) * (y - mean_b))\n",
    "\n",
    "    covariance = 1.0 / (count - sampled) * sum(mean_differences)\n",
    "    return covariance\n",
    "\n",
    "def correlation_coefficient(data_x, data_y):\n",
    "    # correlation_coefficient = covariance(XY) / standard_deviation(X) * standard_deviation(Y)\n",
    "    σXY = covariance(data_x, data_y)\n",
    "    \n",
    "    σX = standard_deviation(data_x)\n",
    "    σY = standard_deviation(data_y)\n",
    "    \n",
    "    correlation_coefficient = σXY / (σX * σY)\n",
    "    return correlation_coefficient\n",
    "    \n",
    "\n",
    "data = [5,20,40,80,100]\n",
    "data_b = [10,24,33,54,10]\n",
    "d_mean = mean(data)\n",
    "d_variance = variance(data)\n",
    "d_std_dev = standard_deviation(data)\n",
    "d_cv = coefficient_of_variation(data)\n",
    "d_covariance = covariance(data, data_b)\n",
    "d_correlation_coefficient = correlation_coefficient(data, data_b)\n",
    "\n",
    "print(f'Mean {d_mean}')\n",
    "print(f'Variance {d_variance}')\n",
    "print(f'Standard deviation {d_std_dev}')\n",
    "print(f'Coeffient of variation {d_cv}')\n",
    "\n",
    "print(f'Covariance of data set a and b {d_covariance}')\n",
    "print(f'correlation_coefficient of data set a and b {d_correlation_coefficient}')"
   ]
  },
  {
   "cell_type": "code",
   "execution_count": 16,
   "metadata": {},
   "outputs": [
    {
     "data": {
      "text/plain": [
       "Decimal('1.25')"
      ]
     },
     "execution_count": 16,
     "metadata": {},
     "output_type": "execute_result"
    }
   ],
   "source": [
    "# Probability Laws\n",
    "\n"
   ]
  },
  {
   "cell_type": "code",
   "execution_count": 42,
   "metadata": {},
   "outputs": [
    {
     "data": {
      "text/plain": [
       "'\\nT | Draw | Flip | Prob\\n  |  1   |  HH   | 0.25\\n  |  1   |  TT   | 0.25\\n  |  1   |  HT   | 0.25\\n  |  1   |  TH   | 0.25\\n  |  2   |  H   | 0.45\\n  |  2   |  T   | 0.05\\n\\nlet P(D) be the draw\\nlet P(F) be the flip\\n\\nWhat is the probability of:\\nP(F(H)|D(1)) = P( F intersection D ) / P(D)\\n\\n= 0.25 / 0.5 \\n'"
      ]
     },
     "execution_count": 42,
     "metadata": {},
     "output_type": "execute_result"
    }
   ],
   "source": [
    "'''\n",
    "T | Draw | Flip  | Prob\n",
    "  |  1   |  HH   | 0.125\n",
    "  |  1   |  TT   | 0.125\n",
    "  |  1   |  HT   | 0.125\n",
    "  |  1   |  TH   | 0.125\n",
    "  |  2   |  HH   | 0.405\n",
    "  |  2   |  TT   | 0.005\n",
    "  |  2   |  HT   | 0.045\n",
    "  |  2   |  TH   | 0.045\n",
    "\n",
    "'''"
   ]
  },
  {
   "cell_type": "code",
   "execution_count": 100,
   "metadata": {},
   "outputs": [
    {
     "data": {
      "text/plain": [
       "1.0"
      ]
     },
     "execution_count": 100,
     "metadata": {},
     "output_type": "execute_result"
    }
   ],
   "source": [
    "#P(C|Neg) = P(C ∩ Neg) / P(Neg)\n",
    "#P(C ∩ Pos) = \n",
    "\n",
    "# P(see R ∩ at red) \n",
    "(0.8 * 0.5) + (0.5 * 0.2)\n",
    "\n",
    "0.1/0.5\n",
    "\n",
    "\n",
    "(0 * 0.8) + (1 * 0.2)\n",
    "0.2/0.2"
   ]
  },
  {
   "cell_type": "code",
   "execution_count": 110,
   "metadata": {},
   "outputs": [
    {
     "data": {
      "text/plain": [
       "0.3846153846153846"
      ]
     },
     "execution_count": 110,
     "metadata": {},
     "output_type": "execute_result"
    }
   ],
   "source": [
    "a =(0.5 * 0.8) \n",
    "b =(0.5 * 0.5)\n",
    "c = a + b\n",
    "b / c"
   ]
  },
  {
   "cell_type": "code",
   "execution_count": 120,
   "metadata": {},
   "outputs": [
    {
     "data": {
      "text/plain": [
       "0.09090909090909091"
      ]
     },
     "execution_count": 120,
     "metadata": {},
     "output_type": "execute_result"
    }
   ],
   "source": [
    "a = 0.3333333*0.9\n",
    "b = 0.3333333*0.1\n",
    "c = 0.3333333*0.1\n",
    "total = a + b + c\n",
    "b / total"
   ]
  },
  {
   "cell_type": "code",
   "execution_count": 30,
   "metadata": {},
   "outputs": [
    {
     "name": "stdout",
     "output_type": "stream",
     "text": [
      "a 0.05555555555555555, b 0.027777777777777776, result 0.08333333333333333, total 2.0\n"
     ]
    }
   ],
   "source": [
    "a = ((1/12) * (2/3))\n",
    "b = ((1/12) * (1/3))\n",
    "result = a + b  \n",
    "print(f'a {a}, b {b}, result {result}, total {result * 24}')"
   ]
  },
  {
   "cell_type": "code",
   "execution_count": 44,
   "metadata": {},
   "outputs": [
    {
     "data": {
      "text/plain": [
       "4.0"
      ]
     },
     "execution_count": 44,
     "metadata": {},
     "output_type": "execute_result"
    }
   ],
   "source": [
    "'''\n",
    "1  H H H H  0.0625\n",
    "2  H H H T  0.0625\n",
    "3  H H T T  0.0625\n",
    "4  H T T T  0.0625 #\n",
    "5  T T T T  0.0625\n",
    "6  T T T H  0.0625 #\n",
    "7  T T H H  0.0625\n",
    "8  T H H H  0.0625\n",
    "9  H T H H  0.0625\n",
    "10 H H T H  0.0625\n",
    "11 H T T H  0.0625\n",
    "12 T H H T  0.0625\n",
    "13 T T H T  0.0625 #\n",
    "14 T H T T  0.0625 #\n",
    "15 H T H T  0.0625\n",
    "16 T H T H  0.0625\n",
    "'''\n",
    "(4/16) / (1/16)"
   ]
  },
  {
   "cell_type": "code",
   "execution_count": 49,
   "metadata": {},
   "outputs": [
    {
     "data": {
      "text/plain": [
       "0.2950600801068091"
      ]
     },
     "execution_count": 49,
     "metadata": {},
     "output_type": "execute_result"
    }
   ],
   "source": [
    "(0.65*0.34)/0.749"
   ]
  },
  {
   "cell_type": "code",
   "execution_count": 11,
   "metadata": {
    "scrolled": true
   },
   "outputs": [
    {
     "data": {
      "text/plain": [
       "0.06999999999999999"
      ]
     },
     "execution_count": 11,
     "metadata": {},
     "output_type": "execute_result"
    }
   ],
   "source": [
    "from fractions import Fraction as F\n",
    "\n",
    "F(72, 100) + F(154, 625)\n",
    "0.1*0.7"
   ]
  },
  {
   "cell_type": "code",
   "execution_count": 69,
   "metadata": {},
   "outputs": [
    {
     "data": {
      "text/plain": [
       "101501"
      ]
     },
     "execution_count": 69,
     "metadata": {},
     "output_type": "execute_result"
    }
   ],
   "source": [
    "1218+32379+37961+19387+7714+2842\n"
   ]
  },
  {
   "cell_type": "code",
   "execution_count": 80,
   "metadata": {},
   "outputs": [
    {
     "name": "stdout",
     "output_type": "stream",
     "text": [
      "Sum(1.0)\n",
      "0:0.012\n",
      "1:0.319\n",
      "2:0.374\n",
      "3:0.191\n",
      "4:0.076\n",
      "5:0.028\n",
      "P(X) <= 2 = 0.705\n",
      "P(X) >  2 = 0.295\n",
      "P(X) >= 4 = 0.104\n"
     ]
    }
   ],
   "source": [
    "p_0 = 1218/101501\n",
    "p_1 = 32379/101501\n",
    "p_2 = 37961/101501\n",
    "p_3 = 19387/101501\n",
    "p_4 = 7714/101501\n",
    "p_5 = 2842/101501\n",
    "\n",
    "print(f'Sum({sum([p_0, p_1, p_2, p_3, p_4, p_5])})')\n",
    "print('0:{0:.3f}'.format(p_0))\n",
    "print('1:{0:.3f}'.format(p_1))\n",
    "print('2:{0:.3f}'.format(p_2))\n",
    "print('3:{0:.3f}'.format(p_3))\n",
    "print('4:{0:.3f}'.format(p_4))\n",
    "print('5:{0:.3f}'.format(p_5))\n",
    "\n",
    "print(f'P(X) <= 2 = {sum([p_0, p_1, p_2]):.3f}')\n",
    "print(f'P(X) >  2 = {sum([p_3, p_4, p_5]):.3f}')\n",
    "print(f'P(X) >= 4 = {sum([p_4, p_5]):.3f}')"
   ]
  },
  {
   "cell_type": "code",
   "execution_count": 98,
   "metadata": {},
   "outputs": [
    {
     "name": "stdout",
     "output_type": "stream",
     "text": [
      "mean 3.066\n",
      "variance 1.178\n",
      "variance shortcut 10.578\n",
      "variance shortcut 1.178\n",
      "std_dev 1.085\n"
     ]
    }
   ],
   "source": [
    "import math\n",
    "X = list(range(0,8))\n",
    "p_X = [.005, .025, .31, .34, .22, .08, .019, .001]\n",
    "\n",
    "mean = 0\n",
    "for x, p_x in zip(X, p_X):\n",
    "    mean += x * p_x\n",
    "print(f'mean {mean}')\n",
    "\n",
    "variance = 0\n",
    "for x, p_x in zip(X, p_X):\n",
    "    variance += (x - mean)**2 * p_x\n",
    "print(f'variance {variance:.3f}')\n",
    "\n",
    "variance_short = 0\n",
    "for x, p_x in zip(X, p_X):\n",
    "    variance_short += ((x**2) * p_x)\n",
    "print(f'variance shortcut {variance_short:.3f}')\n",
    "variance_short -= (mean**2)\n",
    "print(f'variance shortcut {variance_short:.3f}')\n",
    "\n",
    "std_dev = math.sqrt(variance)\n",
    "print(f'std_dev {std_dev:.3f}')"
   ]
  },
  {
   "cell_type": "code",
   "execution_count": 1,
   "metadata": {},
   "outputs": [],
   "source": [
    "from IPython.display import display, Math, Latex"
   ]
  },
  {
   "cell_type": "code",
   "execution_count": 4,
   "metadata": {},
   "outputs": [
    {
     "data": {
      "text/latex": [
       "$$\\frac{1-n}{x}$$"
      ],
      "text/plain": [
       "<IPython.core.display.Math object>"
      ]
     },
     "metadata": {},
     "output_type": "display_data"
    }
   ],
   "source": [
    "display(Math(f'\\\\frac{{1-n}}{{x}}'))"
   ]
  },
  {
   "cell_type": "code",
   "execution_count": 22,
   "metadata": {},
   "outputs": [
    {
     "name": "stdout",
     "output_type": "stream",
     "text": [
      "9254\n",
      "mean 370.16\n",
      "variance 6525.889999999999\n",
      "0.025\n",
      "-1.95996\n",
      "1.64485\n"
     ]
    }
   ],
   "source": [
    "from scipy.stats import norm\n",
    "\n",
    "demand = [\n",
    "    235, 421, 394, 261, 386,\n",
    "    374, 361, 439, 374, 316,\n",
    "    309, 514, 348, 302, 296,\n",
    "    499, 462, 344, 466, 332,\n",
    "    253, 369, 330, 535, 334\n",
    "]\n",
    "print(sum(demand))\n",
    "mu = sum(demand) / len(demand)\n",
    "sigma = 1 / (len(demand) -1) * sum([(x - mu)**2 for x in demand])\n",
    "print('mean', mu)\n",
    "print('variance', sigma)\n",
    "\n",
    "conf_level = 0.95\n",
    "alpha = 1 - conf_level\n",
    "z = alpha / 2\n",
    "print(f'{z:g}')\n",
    "print(f'{norm.ppf(z):g}')\n",
    "print(f'{norm.ppf(0.95):g}')"
   ]
  }
 ],
 "metadata": {
  "kernelspec": {
   "display_name": "Python 3",
   "language": "python",
   "name": "python3"
  },
  "language_info": {
   "codemirror_mode": {
    "name": "ipython",
    "version": 3
   },
   "file_extension": ".py",
   "mimetype": "text/x-python",
   "name": "python",
   "nbconvert_exporter": "python",
   "pygments_lexer": "ipython3",
   "version": "3.7.0"
  }
 },
 "nbformat": 4,
 "nbformat_minor": 2
}
