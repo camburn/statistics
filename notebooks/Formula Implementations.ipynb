{
 "cells": [
  {
   "cell_type": "code",
   "execution_count": 284,
   "metadata": {},
   "outputs": [
    {
     "ename": "ImportError",
     "evalue": "cannot import name 'rv' from 'scipy.stats' (/home/campbell/.local/share/virtualenvs/STAT7055_-_Introduction_to_Statistics-Db-TzhsD/lib/python3.7/site-packages/scipy/stats/__init__.py)",
     "output_type": "error",
     "traceback": [
      "\u001b[0;31m---------------------------------------------------------------------------\u001b[0m",
      "\u001b[0;31mImportError\u001b[0m                               Traceback (most recent call last)",
      "\u001b[0;32m<ipython-input-284-df0c1ba2af5b>\u001b[0m in \u001b[0;36m<module>\u001b[0;34m\u001b[0m\n\u001b[1;32m      3\u001b[0m \u001b[0;32mfrom\u001b[0m \u001b[0mIPython\u001b[0m\u001b[0;34m.\u001b[0m\u001b[0mdisplay\u001b[0m \u001b[0;32mimport\u001b[0m \u001b[0mdisplay\u001b[0m\u001b[0;34m,\u001b[0m \u001b[0mMath\u001b[0m\u001b[0;34m,\u001b[0m \u001b[0mLatex\u001b[0m\u001b[0;34m\u001b[0m\u001b[0m\n\u001b[1;32m      4\u001b[0m \u001b[0;34m\u001b[0m\u001b[0m\n\u001b[0;32m----> 5\u001b[0;31m \u001b[0;32mfrom\u001b[0m \u001b[0mscipy\u001b[0m\u001b[0;34m.\u001b[0m\u001b[0mstats\u001b[0m \u001b[0;32mimport\u001b[0m \u001b[0mnorm\u001b[0m\u001b[0;34m,\u001b[0m \u001b[0mf\u001b[0m\u001b[0;34m,\u001b[0m \u001b[0mt\u001b[0m\u001b[0;34m,\u001b[0m \u001b[0mrv\u001b[0m\u001b[0;34m\u001b[0m\u001b[0m\n\u001b[0m\u001b[1;32m      6\u001b[0m \u001b[0;32mimport\u001b[0m \u001b[0mmatplotlib\u001b[0m\u001b[0;34m.\u001b[0m\u001b[0mpyplot\u001b[0m \u001b[0;32mas\u001b[0m \u001b[0mplt\u001b[0m\u001b[0;34m\u001b[0m\u001b[0m\n\u001b[1;32m      7\u001b[0m \u001b[0;34m\u001b[0m\u001b[0m\n",
      "\u001b[0;31mImportError\u001b[0m: cannot import name 'rv' from 'scipy.stats' (/home/campbell/.local/share/virtualenvs/STAT7055_-_Introduction_to_Statistics-Db-TzhsD/lib/python3.7/site-packages/scipy/stats/__init__.py)"
     ]
    }
   ],
   "source": [
    "# Imports\n",
    "import math\n",
    "from IPython.display import display, Math, Latex\n",
    "\n",
    "from scipy.stats import norm, f, t\n",
    "import matplotlib.pyplot as plt\n",
    "\n",
    "from IPython.core.display import display, HTML\n",
    "display(HTML(\"<style>.container { width:100% !important; }</style>\"))"
   ]
  },
  {
   "cell_type": "markdown",
   "metadata": {},
   "source": [
    "### Binomial Distribution\n",
    "\n",
    "##### Binomial Probability Distribution\n",
    "    \n",
    "$P(x) = \\frac{n!}{x!(n - x)!}p^x(1 - p)^{n-x}$"
   ]
  },
  {
   "cell_type": "code",
   "execution_count": 2,
   "metadata": {},
   "outputs": [],
   "source": [
    "def binom_prob_distribution(x, n, p):\n",
    "    \"\"\"\n",
    "    The probability of x successes in a binomial experiment \n",
    "    with n trials and a probabilty of success of p\n",
    "    \n",
    "    Args:\n",
    "        x : Number of successes to calculate probability for \n",
    "        n : Number of trials to conduct\n",
    "        p : Probabilty of a successful result\n",
    "    \"\"\"\n",
    "    display(Math(f'x = {x}'))\n",
    "    display(Math(f'n = {n}'))\n",
    "    display(Math(f'p = {p}'))\n",
    "    display(Math(r'P(x) = \\frac{n!}{x!(n - x)!}p^x(1 - p)^{n-x}'))\n",
    "    display(Math(\n",
    "        f'P(x) = \\\\frac{{ {n}! }}{{ {x}!({n} - {x})!}} {p}^{x}(1 - {p})^{{{n}-{x}}}'\n",
    "    ))\n",
    "    # calculate factorials\n",
    "    f_n = math.factorial(n)\n",
    "    f_x = math.factorial(x)\n",
    "    f_nx = math.factorial(n - x)\n",
    "    \n",
    "    # Calculate probabilty elements\n",
    "    p_by_trials = p**x\n",
    "    p_failure = 1 - p\n",
    "    no_failure = n - x\n",
    "    display(Math(\n",
    "        f'P(x) = \\\\frac{{ {f_n:g} }}{{ {f_x:g} \\\\cdot {f_nx:g} }}{p_by_trials:g}({p_failure:g})^{no_failure:g}'\n",
    "    ))\n",
    "    \n",
    "    coefficient = f_n / (f_x * f_nx)\n",
    "    probabilty = p_by_trials * (p_failure**no_failure)\n",
    "    display(Math(f'P(x) = {coefficient:g} \\\\cdot {probabilty:g}'))\n",
    "    result = coefficient * probabilty\n",
    "    display(Math(f'P(x) = {result:g}'))\n",
    "    return result\n",
    "    "
   ]
  },
  {
   "cell_type": "code",
   "execution_count": 3,
   "metadata": {},
   "outputs": [
    {
     "data": {
      "text/latex": [
       "$$x = 2$$"
      ],
      "text/plain": [
       "<IPython.core.display.Math object>"
      ]
     },
     "metadata": {},
     "output_type": "display_data"
    },
    {
     "data": {
      "text/latex": [
       "$$n = 10$$"
      ],
      "text/plain": [
       "<IPython.core.display.Math object>"
      ]
     },
     "metadata": {},
     "output_type": "display_data"
    },
    {
     "data": {
      "text/latex": [
       "$$p = 0.2$$"
      ],
      "text/plain": [
       "<IPython.core.display.Math object>"
      ]
     },
     "metadata": {},
     "output_type": "display_data"
    },
    {
     "data": {
      "text/latex": [
       "$$P(x) = \\frac{n!}{x!(n - x)!}p^x(1 - p)^{n-x}$$"
      ],
      "text/plain": [
       "<IPython.core.display.Math object>"
      ]
     },
     "metadata": {},
     "output_type": "display_data"
    },
    {
     "data": {
      "text/latex": [
       "$$P(x) = \\frac{ 10! }{ 2!(10 - 2)!} 0.2^2(1 - 0.2)^{10-2}$$"
      ],
      "text/plain": [
       "<IPython.core.display.Math object>"
      ]
     },
     "metadata": {},
     "output_type": "display_data"
    },
    {
     "data": {
      "text/latex": [
       "$$P(x) = \\frac{ 3.6288e+06 }{ 2 \\cdot 40320 }0.04(0.8)^8$$"
      ],
      "text/plain": [
       "<IPython.core.display.Math object>"
      ]
     },
     "metadata": {},
     "output_type": "display_data"
    },
    {
     "data": {
      "text/latex": [
       "$$P(x) = 45 \\cdot 0.00671089$$"
      ],
      "text/plain": [
       "<IPython.core.display.Math object>"
      ]
     },
     "metadata": {},
     "output_type": "display_data"
    },
    {
     "data": {
      "text/latex": [
       "$$P(x) = 0.30199$$"
      ],
      "text/plain": [
       "<IPython.core.display.Math object>"
      ]
     },
     "metadata": {},
     "output_type": "display_data"
    }
   ],
   "source": [
    "result = binom_prob_distribution(2, 10, .2)"
   ]
  },
  {
   "cell_type": "markdown",
   "metadata": {},
   "source": [
    "### Binomial Mean Variance and Standard Deviation\n",
    "\n",
    "##### mean\n",
    "$ \\mu = np $\n",
    "##### Variance\n",
    "$ \\sigma^2 = np(1 - p) $\n",
    "##### Standard Deviation\n",
    "$ \\sigma = \\sqrt{np(1 - p)} $"
   ]
  },
  {
   "cell_type": "code",
   "execution_count": 4,
   "metadata": {},
   "outputs": [],
   "source": [
    "def binom_mean(n, p):\n",
    "    \"\"\"\n",
    "    Binomial Mean\n",
    "    \n",
    "    Args:\n",
    "        n : Number of trials\n",
    "        p : probabilty of a success\n",
    "    \"\"\"\n",
    "    display(Math(r'\\mu = np'))\n",
    "    display(Math(f'\\\\mu = {n} \\\\cdot {p}'))\n",
    "    result = n * p\n",
    "    display(Math(f'\\\\mu = {result}'))\n",
    "    return result\n",
    "\n",
    "def binom_std_deviation(n, p):\n",
    "    \"\"\"\n",
    "    Binomial Mean\n",
    "    \n",
    "    Args:\n",
    "        n : Number of trials\n",
    "        p : probabilty of a success\n",
    "    \"\"\"\n",
    "    display(Math(r'\\sigma = \\sqrt{np(1 - p)}'))\n",
    "    display(Math(f'\\\\sigma = \\sqrt{{{n} \\\\cdot {p} \\\\cdot (1 - {p})  }}'))\n",
    "    variance = n * p * (1 - p)\n",
    "    display(Math(f'\\\\sigma = \\sqrt{{{variance:g}}}'))\n",
    "    result = math.sqrt(variance)\n",
    "    display(Math(f'\\\\sigma = {result:g}'))\n",
    "    return result"
   ]
  },
  {
   "cell_type": "code",
   "execution_count": 5,
   "metadata": {},
   "outputs": [
    {
     "data": {
      "text/latex": [
       "$$\\mu = np$$"
      ],
      "text/plain": [
       "<IPython.core.display.Math object>"
      ]
     },
     "metadata": {},
     "output_type": "display_data"
    },
    {
     "data": {
      "text/latex": [
       "$$\\mu = 10 \\cdot 0.2$$"
      ],
      "text/plain": [
       "<IPython.core.display.Math object>"
      ]
     },
     "metadata": {},
     "output_type": "display_data"
    },
    {
     "data": {
      "text/latex": [
       "$$\\mu = 2.0$$"
      ],
      "text/plain": [
       "<IPython.core.display.Math object>"
      ]
     },
     "metadata": {},
     "output_type": "display_data"
    },
    {
     "data": {
      "text/latex": [
       "$$\\sigma = \\sqrt{np(1 - p)}$$"
      ],
      "text/plain": [
       "<IPython.core.display.Math object>"
      ]
     },
     "metadata": {},
     "output_type": "display_data"
    },
    {
     "data": {
      "text/latex": [
       "$$\\sigma = \\sqrt{10 \\cdot 0.2 \\cdot (1 - 0.2)  }$$"
      ],
      "text/plain": [
       "<IPython.core.display.Math object>"
      ]
     },
     "metadata": {},
     "output_type": "display_data"
    },
    {
     "data": {
      "text/latex": [
       "$$\\sigma = \\sqrt{1.6}$$"
      ],
      "text/plain": [
       "<IPython.core.display.Math object>"
      ]
     },
     "metadata": {},
     "output_type": "display_data"
    },
    {
     "data": {
      "text/latex": [
       "$$\\sigma = 1.26491$$"
      ],
      "text/plain": [
       "<IPython.core.display.Math object>"
      ]
     },
     "metadata": {},
     "output_type": "display_data"
    }
   ],
   "source": [
    "result = binom_mean(10, .2)\n",
    "result = binom_std_deviation(10, .2)"
   ]
  },
  {
   "cell_type": "code",
   "execution_count": 6,
   "metadata": {},
   "outputs": [
    {
     "data": {
      "text/latex": [
       "$$x = 1$$"
      ],
      "text/plain": [
       "<IPython.core.display.Math object>"
      ]
     },
     "metadata": {},
     "output_type": "display_data"
    },
    {
     "data": {
      "text/latex": [
       "$$n = 10$$"
      ],
      "text/plain": [
       "<IPython.core.display.Math object>"
      ]
     },
     "metadata": {},
     "output_type": "display_data"
    },
    {
     "data": {
      "text/latex": [
       "$$p = 0.98$$"
      ],
      "text/plain": [
       "<IPython.core.display.Math object>"
      ]
     },
     "metadata": {},
     "output_type": "display_data"
    },
    {
     "data": {
      "text/latex": [
       "$$P(x) = \\frac{n!}{x!(n - x)!}p^x(1 - p)^{n-x}$$"
      ],
      "text/plain": [
       "<IPython.core.display.Math object>"
      ]
     },
     "metadata": {},
     "output_type": "display_data"
    },
    {
     "data": {
      "text/latex": [
       "$$P(x) = \\frac{ 10! }{ 1!(10 - 1)!} 0.98^1(1 - 0.98)^{10-1}$$"
      ],
      "text/plain": [
       "<IPython.core.display.Math object>"
      ]
     },
     "metadata": {},
     "output_type": "display_data"
    },
    {
     "data": {
      "text/latex": [
       "$$P(x) = \\frac{ 3.6288e+06 }{ 1 \\cdot 362880 }0.98(0.02)^9$$"
      ],
      "text/plain": [
       "<IPython.core.display.Math object>"
      ]
     },
     "metadata": {},
     "output_type": "display_data"
    },
    {
     "data": {
      "text/latex": [
       "$$P(x) = 10 \\cdot 5.0176e-16$$"
      ],
      "text/plain": [
       "<IPython.core.display.Math object>"
      ]
     },
     "metadata": {},
     "output_type": "display_data"
    },
    {
     "data": {
      "text/latex": [
       "$$P(x) = 5.0176e-15$$"
      ],
      "text/plain": [
       "<IPython.core.display.Math object>"
      ]
     },
     "metadata": {},
     "output_type": "display_data"
    },
    {
     "name": "stdout",
     "output_type": "stream",
     "text": [
      "5.01760000000004e-15\n"
     ]
    }
   ],
   "source": [
    "result = binom_prob_distribution(1, 10, 0.98)\n",
    "print(f'{result}')"
   ]
  },
  {
   "cell_type": "markdown",
   "metadata": {},
   "source": [
    "### Normal Distribution\n",
    "\n",
    "#### Normal Density Function\n",
    "$ f(x) = \\frac{1}{\\sigma\\sqrt{2\\pi}}e^{-\\frac{1}{2}(\\frac{x-\\mu}{\\sigma})^2} $"
   ]
  },
  {
   "cell_type": "code",
   "execution_count": 7,
   "metadata": {},
   "outputs": [],
   "source": [
    "def normal_density_function(x, mean, std_dev):\n",
    "    \"\"\"\n",
    "    Binomial Mean\n",
    "    \n",
    "    Args:\n",
    "        x : \n",
    "        mean : Average value - Centre of a normal distribution\n",
    "        std_dev : Distribution of data - Widens or narrows curve\n",
    "    \"\"\"\n",
    "    display(Math(r'f(x) = \\frac{1}{\\sigma\\sqrt{2\\pi}}e^{-\\frac{1}{2}(\\frac{x-\\mu}{\\sigma})^2}'))\n",
    "    display(Math(f'f(x) = \\\\frac{{1}}{{ {std_dev} \\\\sqrt{{2 \\\\times {math.pi:5f} }}}}{math.e:.5f}^{{-\\\\frac{{1}}{{2}}(\\\\frac{{{x}-{mean}}}{{{std_dev}}})^2}}'))\n",
    "    pi_squared = 2 * math.pi\n",
    "    coeff = (1/2 * ((x - mean) / std_dev)**2)\n",
    "    display(Math(f'f(x) = \\\\frac{{1}}{{ {std_dev} \\\\sqrt{{ {pi_squared:5f} }}}}{math.e:.5f}^{{- {coeff} }}'))\n",
    "    e_coeff = math.e**-coeff\n",
    "    \n",
    "    std_dev_by_pi_sqr = std_dev *(math.sqrt(pi_squared))\n",
    "    display(Math(f'f(x) = \\\\frac{{1}}{{ {std_dev_by_pi_sqr:g} }}{e_coeff:g}'))\n",
    "    result = (1/ std_dev_by_pi_sqr) * e_coeff\n",
    "    display(Math(f'f(x) = {result:g}'))\n",
    "    return result\n",
    "\n",
    "def normal_density_function_range(X, mean, std_dev):\n",
    "    \"\"\"\n",
    "    Binomial Mean\n",
    "    \n",
    "    Args:\n",
    "        x : \n",
    "        mean : Average value - Centre of a normal distribution\n",
    "        std_dev : Distribution of data - Widens or narrows curve\n",
    "    \"\"\"\n",
    "    results = []\n",
    "    for x in X:\n",
    "        pi_squared = 2 * math.pi\n",
    "        coeff = (1/2 * ((x - mean) / std_dev)**2)\n",
    "        e_coeff = math.e**-coeff\n",
    "        std_dev_by_pi_sqr = std_dev *(math.sqrt(pi_squared))\n",
    "        results.append((1/ std_dev_by_pi_sqr) * e_coeff)\n",
    "    return results\n"
   ]
  },
  {
   "cell_type": "code",
   "execution_count": 249,
   "metadata": {},
   "outputs": [
    {
     "name": "stdout",
     "output_type": "stream",
     "text": [
      "z-score for 0.95 confidence 1.960\n",
      "% for z-score 0.975\n"
     ]
    },
    {
     "data": {
      "image/png": "[encoded data removed]",
      "text/plain": [
       "<Figure size 432x288 with 1 Axes>"
      ]
     },
     "metadata": {
      "needs_background": "light"
     },
     "output_type": "display_data"
    },
    {
     "name": "stdout",
     "output_type": "stream",
     "text": [
      "p-value 0.024997895148220373\n",
      "(83.29448560287199, 94.30551439712801)\n",
      "-0.42720018726587755\n",
      "Is -1.960 < -0.42720018726587755 < 1.960\n"
     ]
    }
   ],
   "source": [
    "def confidence(percent):\n",
    "    # Convert a confidence percentage to a z-score\n",
    "    assert 0 <= percent <= 1\n",
    "    value = 1-(1-percent)/2\n",
    "    z = norm.ppf(value)\n",
    "    return z\n",
    "\n",
    "def confidence_interval(percent, mean, variance, sample_size):\n",
    "    lower = mean - (confidence(percent) * (variance / math.sqrt(sample_size)))\n",
    "    upper = mean + (confidence(percent) * (variance / math.sqrt(sample_size)))\n",
    "    return lower, upper\n",
    "\n",
    "def cdf(x, mean=0, std_dev=1):\n",
    "    z = (x - mean) / std_dev\n",
    "    return (1.0 + math.erf(z / math.sqrt(2.0))) / 2.0\n",
    "\n",
    "def cdf2(x, mean, std_dev):\n",
    "    z = (x - mean) / std_dev\n",
    "    return (1.0 + math.erf(z / math.sqrt(2.0))) / 2.0\n",
    "\n",
    "def area_under_curve(a, b, mean, std_dev):\n",
    "    assert b > a\n",
    "    z_a = (a - mean) / std_dev\n",
    "    z_b = (b - mean) / std_dev\n",
    "    area_a = (1.0 + math.erf(z_a / math.sqrt(2.0))) / 2.0\n",
    "    area_b = (1.0 + math.erf(z_b / math.sqrt(2.0))) / 2.0\n",
    "    return area_b - area_a\n",
    "\n",
    "def standardised_z_score(x, mu, sigma, n):\n",
    "    z = (x - mu) / (sigma / math.sqrt(n))\n",
    "    return z\n",
    "\n",
    "def p_value(z, mean, std_dev, z_type='lt'):\n",
    "    if z_type == 'lt':\n",
    "        p = cdf(z, mean, std_dev)\n",
    "    elif z_type =='gt':\n",
    "        p = 1 - cdf(z, mean, std_dev)\n",
    "    elif z_type == 'neq':\n",
    "        cdf(z, mean, std_dev) + 1 - cdf(z, mean, std_dev)\n",
    "        \n",
    "    return p\n",
    "\n",
    "def plot_normal_distribution(mu, sigma, Z=None, z_type='lt', intervals=100):\n",
    "    assert z_type in ['neq', 'lt', 'gt']\n",
    "    \n",
    "    x = np.linspace(mu - sigma * 4, mu + sigma * 4,intervals)\n",
    "    \n",
    "    plt.xlabel('µ')\n",
    "    plt.ylabel('f(x)')\n",
    "    plt.plot(x, normal_density_function_range(x, mu, sigma))\n",
    "    \n",
    "    if Z and z_type in ['lt', 'neq']:\n",
    "        start = None\n",
    "        end = Z\n",
    "        if start == None:\n",
    "            fill_x = [v for v in x if v < end]\n",
    "        else:\n",
    "            fill_x = [v for v in x if start < v < end]\n",
    "        plt.axvline(Z, label=Z, color='k', linestyle='dashed', linewidth=1)\n",
    "        plt.fill_between(fill_x, [0]*len(fill_x), normal_density_function_range(fill_x, mu, sigma), color='red')\n",
    "    if Z and z_type in ['gt', 'neq']:\n",
    "        end = Z\n",
    "        fill_x = [v for v in x if v > end * -1]\n",
    "        plt.axvline(Z * -1, label=Z * -1, color='k', linestyle='dashed', linewidth=1)\n",
    "        plt.fill_between(fill_x, [0]*len(fill_x), normal_density_function_range(fill_x, mu, sigma), color='red', label='Reject != Z')\n",
    "    plt.legend(loc=0)\n",
    "    plt.show()\n",
    "\n",
    "\n",
    "mu = 0\n",
    "sigma = 1\n",
    "Z = -1.96\n",
    "\n",
    "conf = 0.95\n",
    "print(f'z-score for {conf} confidence {confidence(conf):.3f}')\n",
    "\n",
    "print('% for z-score', cdf(confidence(conf)))\n",
    "\n",
    "plot_normal_distribution(mu, sigma, Z, z_type='gt')\n",
    "\n",
    "print('p-value', p_value(1.96, 0, 1, 'gt'))\n",
    "\n",
    "print(confidence_interval(.95, 88.8, 24, 73))\n",
    "\n",
    "# H0 = 90\n",
    "# H1 != 90\n",
    "rejection_region = confidence(.95)\n",
    "hypothesis_zero = 90\n",
    "sample_mean = 88.8\n",
    "variance = 24\n",
    "sample_size = 73\n",
    "conf = 0.95\n",
    "test_z = standardised_z_score(88.8, 90, 24, 73)\n",
    "print(test_z)\n",
    "\n",
    "# Test hypothesis\n",
    "print(f'Is -{rejection_region:.3f} < {test_z} < {rejection_region:.3f}')"
   ]
  },
  {
   "cell_type": "code",
   "execution_count": 199,
   "metadata": {},
   "outputs": [
    {
     "name": "stdout",
     "output_type": "stream",
     "text": [
      "Set up hypotheses\n"
     ]
    },
    {
     "data": {
      "text/latex": [
       "$$H_0 : \\mu = 90$$"
      ],
      "text/plain": [
       "<IPython.core.display.Math object>"
      ]
     },
     "metadata": {},
     "output_type": "display_data"
    },
    {
     "data": {
      "text/latex": [
       "$$H_1 : \\mu \\neq 90$$"
      ],
      "text/plain": [
       "<IPython.core.display.Math object>"
      ]
     },
     "metadata": {},
     "output_type": "display_data"
    },
    {
     "name": "stdout",
     "output_type": "stream",
     "text": [
      "Calculate test statistic\n"
     ]
    },
    {
     "data": {
      "text/latex": [
       "$$Z = \\frac{\\bar{X} - \\mu_0}{\\frac{\\sigma}{\\sqrt{n}}} =  \\frac{ 88.8 - 90 }{\\frac{ 24 }{\\sqrt{ 73 }}} = -0.4272$$"
      ],
      "text/plain": [
       "<IPython.core.display.Math object>"
      ]
     },
     "metadata": {},
     "output_type": "display_data"
    },
    {
     "name": "stdout",
     "output_type": "stream",
     "text": [
      "Calculate rejection regions\n"
     ]
    },
    {
     "data": {
      "text/latex": [
       "$$-1.960 < -0.4272 < 1.960$$"
      ],
      "text/plain": [
       "<IPython.core.display.Math object>"
      ]
     },
     "metadata": {},
     "output_type": "display_data"
    },
    {
     "name": "stdout",
     "output_type": "stream",
     "text": [
      "Hypothesis test True\n",
      "H0 is not rejected\n"
     ]
    }
   ],
   "source": [
    "x_bar = 88.8  # Sample mean\n",
    "n = 73        # sample size\n",
    "sigma = 24    # Standard deviation\n",
    "h = 90        # hypothesis mean\n",
    "a = 0.05      # significance level\n",
    "conf = 1 - a  # confidence level\n",
    "\n",
    "### Hypothesis Test\n",
    "# 1) Establish hypothesis\n",
    "print('Set up hypotheses')\n",
    "display(Math(f'H_0 : \\\\mu = {h}'))\n",
    "display(Math(f'H_1 : \\\\mu \\\\neq {h}'))\n",
    "\n",
    "# 2) Calculate test statistic\n",
    "print('Calculate test statistic')\n",
    "test_z = standardised_z_score(x_bar, h, sigma, n)\n",
    "display(Math(f'Z = \\\\frac{{\\\\bar{{X}} - \\\\mu_0}}{{\\\\frac{{\\\\sigma}}{{\\\\sqrt{{n}}}}}} = '\n",
    "             f' \\\\frac{{ {x_bar} - {h} }}{{\\\\frac{{ {sigma} }}{{\\\\sqrt{{ {n} }}}}}} = {test_z:g}'))\n",
    "\n",
    "#\n",
    "print('Calculate rejection regions')\n",
    "rejection_region_lower = -1 * confidence(conf)\n",
    "rejection_region_upper = confidence(conf)\n",
    "\n",
    "display(Math(f'{rejection_region_lower:.3f} < {test_z:g} < {rejection_region_upper:.3f}'))\n",
    "print('Hypothesis test', rejection_region_lower < test_z < rejection_region_upper)\n",
    "print('H0 is not rejected')\n"
   ]
  },
  {
   "cell_type": "code",
   "execution_count": 9,
   "metadata": {},
   "outputs": [
    {
     "data": {
      "text/latex": [
       "$$f(x) = \\frac{1}{\\sigma\\sqrt{2\\pi}}e^{-\\frac{1}{2}(\\frac{x-\\mu}{\\sigma})^2}$$"
      ],
      "text/plain": [
       "<IPython.core.display.Math object>"
      ]
     },
     "metadata": {},
     "output_type": "display_data"
    },
    {
     "data": {
      "text/latex": [
       "$$f(x) = \\frac{1}{ 5 \\sqrt{2 \\times 3.141593 }}2.71828^{-\\frac{1}{2}(\\frac{62-50}{5})^2}$$"
      ],
      "text/plain": [
       "<IPython.core.display.Math object>"
      ]
     },
     "metadata": {},
     "output_type": "display_data"
    },
    {
     "data": {
      "text/latex": [
       "$$f(x) = \\frac{1}{ 5 \\sqrt{ 6.283185 }}2.71828^{- 2.88 }$$"
      ],
      "text/plain": [
       "<IPython.core.display.Math object>"
      ]
     },
     "metadata": {},
     "output_type": "display_data"
    },
    {
     "data": {
      "text/latex": [
       "$$f(x) = \\frac{1}{ 12.5331 }0.0561348$$"
      ],
      "text/plain": [
       "<IPython.core.display.Math object>"
      ]
     },
     "metadata": {},
     "output_type": "display_data"
    },
    {
     "data": {
      "text/latex": [
       "$$f(x) = 0.00447891$$"
      ],
      "text/plain": [
       "<IPython.core.display.Math object>"
      ]
     },
     "metadata": {},
     "output_type": "display_data"
    }
   ],
   "source": [
    "result = normal_density_function(62, 50, 5)"
   ]
  },
  {
   "cell_type": "code",
   "execution_count": 10,
   "metadata": {},
   "outputs": [
    {
     "name": "stdout",
     "output_type": "stream",
     "text": [
      "0.8413447460685429 0.8413447460685429\n"
     ]
    }
   ],
   "source": [
    "print(norm.cdf(-21, 0, 1), norm.cdf(1100, 1000, 100))"
   ]
  },
  {
   "cell_type": "code",
   "execution_count": 136,
   "metadata": {},
   "outputs": [
    {
     "name": "stdout",
     "output_type": "stream",
     "text": [
      "0.9750021048517796\n",
      "0.010493121771245617\n"
     ]
    }
   ],
   "source": [
    "\n",
    "\n",
    "def phi(x):\n",
    "    #'Cumulative distribution function for the standard normal distribution'\n",
    "    return (1.0 + math.erf(x / math.sqrt(2.0))) / 2.0\n",
    "#print(norm.cdf(1, 0, 1))\n",
    "print(cdf(1.96, 0, 1))\n",
    "#print(cdf(140, 150, (13.7/math.sqrt(10))))\n",
    "#print(area_under_curve(-0.71, 0.92, 0, 1))\n"
   ]
  },
  {
   "cell_type": "code",
   "execution_count": 12,
   "metadata": {},
   "outputs": [],
   "source": [
    "def mean(data):\n",
    "    return sum(data) / len(data)\n",
    "\n",
    "def sample_variance(data):\n",
    "    sigma = mean(data)\n",
    "    \n",
    "    sum_diffs = 0\n",
    "    for element in data:\n",
    "        sum_diffs += (element - sigma)**2\n",
    "    variance = (1 / (len(data) - 1)) * sum_diffs\n",
    "    return variance\n",
    "\n",
    "def sample_deviation(data):\n",
    "    variance = sample_variance(data)\n",
    "    return math.sqrt(variance)\n",
    "    "
   ]
  },
  {
   "cell_type": "code",
   "execution_count": 20,
   "metadata": {},
   "outputs": [
    {
     "data": {
      "image/png": "[encoded data removed]",
      "text/plain": [
       "<Figure size 432x288 with 1 Axes>"
      ]
     },
     "metadata": {
      "needs_background": "light"
     },
     "output_type": "display_data"
    },
    {
     "name": "stdout",
     "output_type": "stream",
     "text": [
      "sample mean 49.94611229615937\n",
      "sample variance 4.2602022830203765\n",
      "sample std dev 2.064025746695127\n"
     ]
    }
   ],
   "source": [
    "import random\n",
    "\n",
    "n = 200  # Sample observation size\n",
    "m = 2000 # Samples\n",
    "data = [\n",
    "    [random.randrange(0, 100) + random.random() for x in range(n)] \n",
    "    for x in range(m)\n",
    "]\n",
    "\n",
    "sigmas = [mean(d) for d in data]\n",
    "\n",
    "variances = [sample_variance(d) for d in data]\n",
    "\n",
    "plt.hist(sigmas, 20, rwidth=0.8)\n",
    "plt.show()\n",
    "print('sample mean', mean(sigmas))\n",
    "print('sample variance', sample_variance(sigmas))\n",
    "print('sample std dev', sample_deviation(sigmas))"
   ]
  },
  {
   "cell_type": "code",
   "execution_count": 289,
   "metadata": {},
   "outputs": [
    {
     "name": "stdout",
     "output_type": "stream",
     "text": [
      "Checking if sample variances are equal\n"
     ]
    },
    {
     "data": {
      "image/png": "[encoded data removed]",
      "text/plain": [
       "<Figure size 432x288 with 1 Axes>"
      ]
     },
     "metadata": {
      "needs_background": "light"
     },
     "output_type": "display_data"
    }
   ],
   "source": [
    "import numpy as np\n",
    "\n",
    "print('Checking if sample variances are equal')\n",
    "\n",
    "dfn, dfd = 2, 57\n",
    "x = np.linspace(0,3,100)\n",
    "plt.title('F-Distribution')\n",
    "#plt.plot(x, f.pdf(x, dfn, dfd), 'r-', lw=5, alpha=0.6, label='f pdf')\n",
    "plt.plot(x, f(dfn, dfd).pdf(x), 'r-', lw=5, alpha=0.6, label='f pdf')\n",
    "plt.axvline(1.8155, label=1.8155, color='k', linestyle='dashed', linewidth=1)\n",
    "plt.axvline(2.53, label=2.53, color='r', linestyle='dashed', linewidth=1)\n",
    "plt.show()"
   ]
  },
  {
   "cell_type": "code",
   "execution_count": 282,
   "metadata": {},
   "outputs": [
    {
     "data": {
      "image/png": "[encoded data removed]",
      "text/plain": [
       "<Figure size 432x288 with 1 Axes>"
      ]
     },
     "metadata": {
      "needs_background": "light"
     },
     "output_type": "display_data"
    },
    {
     "name": "stdout",
     "output_type": "stream",
     "text": [
      "T-value 1.98157\n",
      "Probabilty 0.975\n"
     ]
    }
   ],
   "source": [
    "## Setup      \n",
    "dof = 98        # Degrees of freedom\n",
    "alpha = 0.05    # Significence level\n",
    "ntails = 1      # Number of tails \n",
    "\n",
    "## Calculate critical t-score\n",
    "tcrit = abs(t.ppf(alpha/ntails, dof))\n",
    "\n",
    "x = np.linspace(-4,4,100)\n",
    "plt.title('T-Distribution')\n",
    "plt.plot(x, t.pdf(x, dof), 'r-', alpha=0.6, label='t pdf')\n",
    "plt.axvline(-tcrit, label=f'{-tcrit:g}', color='b', linestyle='dashed', linewidth=1)\n",
    "plt.axvline(tcrit, label=f'{tcrit:g}', color='b', linestyle='dashed', linewidth=1)\n",
    "plt.legend(loc=0)\n",
    "plt.show()\n",
    "\n",
    "# define probability\n",
    "p = 0.975\n",
    "df = 111\n",
    "# retrieve value <= probability\n",
    "value = t.ppf(p, df)\n",
    "print(f'T-value {value:g}')\n",
    "# confirm with cdf\n",
    "p = t.cdf(value, df)\n",
    "print(f'Probabilty {p:g}')"
   ]
  }
 ],
 "metadata": {
  "kernelspec": {
   "display_name": "Python 3",
   "language": "python",
   "name": "python3"
  },
  "language_info": {
   "codemirror_mode": {
    "name": "ipython",
    "version": 3
   },
   "file_extension": ".py",
   "mimetype": "text/x-python",
   "name": "python",
   "nbconvert_exporter": "python",
   "pygments_lexer": "ipython3",
   "version": "3.7.0"
  }
 },
 "nbformat": 4,
 "nbformat_minor": 2
}
