{
 "cells": [
  {
   "cell_type": "code",
   "execution_count": 1,
   "metadata": {},
   "outputs": [
    {
     "data": {
      "text/html": [
       "<style>.container { width:100% !important; }</style>"
      ],
      "text/plain": [
       "<IPython.core.display.HTML object>"
      ]
     },
     "metadata": {},
     "output_type": "display_data"
    }
   ],
   "source": [
    "# Imports\n",
    "import math\n",
    "from IPython.display import display, Math, Latex\n",
    "\n",
    "from scipy.stats import norm, f, t\n",
    "import matplotlib.pyplot as plt\n",
    "import numpy as np\n",
    "\n",
    "from IPython.core.display import display, HTML\n",
    "display(HTML(\"<style>.container { width:100% !important; }</style>\"))"
   ]
  },
  {
   "cell_type": "code",
   "execution_count": 2,
   "metadata": {},
   "outputs": [],
   "source": [
    "def mean(data):\n",
    "    return sum(data) / len(data)\n",
    "\n",
    "def sample_variance(data):\n",
    "    sigma = mean(data)\n",
    "    \n",
    "    sum_diffs = 0\n",
    "    for element in data:\n",
    "        sum_diffs += (element - sigma)**2\n",
    "    variance = (1 / (len(data) - 1)) * sum_diffs\n",
    "    return variance\n",
    "\n",
    "def sample_deviation(data):\n",
    "    variance = sample_variance(data)\n",
    "    return math.sqrt(variance)\n",
    "\n",
    "def population_variance(data):\n",
    "    sigma = mean(data)\n",
    "    \n",
    "    sum_diffs = 0\n",
    "    for element in data:\n",
    "        sum_diffs += (element - sigma)**2\n",
    "    variance = (1 / (len(data))) * sum_diffs\n",
    "    return variance\n",
    "\n",
    "def population_deviation(data):\n",
    "    variance = population_variance(data)\n",
    "    return math.sqrt(variance)"
   ]
  },
  {
   "cell_type": "markdown",
   "metadata": {},
   "source": [
    "### Binomial Distribution\n",
    "\n",
    "##### Binomial Probability Distribution\n",
    "    \n",
    "$P(x) = \\frac{n!}{x!(n - x)!}p^x(1 - p)^{n-x}$"
   ]
  },
  {
   "cell_type": "code",
   "execution_count": 3,
   "metadata": {},
   "outputs": [],
   "source": [
    "def binom_prob_distribution(x, n, p):\n",
    "    \"\"\"\n",
    "    The probability of x successes in a binomial experiment \n",
    "    with n trials and a probabilty of success of p\n",
    "    \n",
    "    Args:\n",
    "        x : Number of successes to calculate probability for \n",
    "        n : Number of trials to conduct\n",
    "        p : Probabilty of a successful result\n",
    "    \"\"\"\n",
    "    display(Math(f'x = {x}'))\n",
    "    display(Math(f'n = {n}'))\n",
    "    display(Math(f'p = {p}'))\n",
    "    display(Math(r'P(x) = \\frac{n!}{x!(n - x)!}p^x(1 - p)^{n-x}'))\n",
    "    display(Math(\n",
    "        f'P(x) = \\\\frac{{ {n}! }}{{ {x}!({n} - {x})!}} {p}^{x}(1 - {p})^{{{n}-{x}}}'\n",
    "    ))\n",
    "    # calculate factorials\n",
    "    f_n = math.factorial(n)\n",
    "    f_x = math.factorial(x)\n",
    "    f_nx = math.factorial(n - x)\n",
    "    \n",
    "    # Calculate probabilty elements\n",
    "    p_by_trials = p**x\n",
    "    p_failure = 1 - p\n",
    "    no_failure = n - x\n",
    "    display(Math(\n",
    "        f'P(x) = \\\\frac{{ {f_n:g} }}{{ {f_x:g} \\\\cdot {f_nx:g} }}{p_by_trials:g}({p_failure:g})^{no_failure:g}'\n",
    "    ))\n",
    "    \n",
    "    coefficient = f_n / (f_x * f_nx)\n",
    "    probabilty = p_by_trials * (p_failure**no_failure)\n",
    "    display(Math(f'P(x) = {coefficient:g} \\\\cdot {probabilty:g}'))\n",
    "    result = coefficient * probabilty\n",
    "    display(Math(f'P(x) = {result:g}'))\n",
    "    return result\n",
    "    "
   ]
  },
  {
   "cell_type": "code",
   "execution_count": 4,
   "metadata": {},
   "outputs": [
    {
     "data": {
      "text/latex": [
       "$$x = 2$$"
      ],
      "text/plain": [
       "<IPython.core.display.Math object>"
      ]
     },
     "metadata": {},
     "output_type": "display_data"
    },
    {
     "data": {
      "text/latex": [
       "$$n = 10$$"
      ],
      "text/plain": [
       "<IPython.core.display.Math object>"
      ]
     },
     "metadata": {},
     "output_type": "display_data"
    },
    {
     "data": {
      "text/latex": [
       "$$p = 0.2$$"
      ],
      "text/plain": [
       "<IPython.core.display.Math object>"
      ]
     },
     "metadata": {},
     "output_type": "display_data"
    },
    {
     "data": {
      "text/latex": [
       "$$P(x) = \\frac{n!}{x!(n - x)!}p^x(1 - p)^{n-x}$$"
      ],
      "text/plain": [
       "<IPython.core.display.Math object>"
      ]
     },
     "metadata": {},
     "output_type": "display_data"
    },
    {
     "data": {
      "text/latex": [
       "$$P(x) = \\frac{ 10! }{ 2!(10 - 2)!} 0.2^2(1 - 0.2)^{10-2}$$"
      ],
      "text/plain": [
       "<IPython.core.display.Math object>"
      ]
     },
     "metadata": {},
     "output_type": "display_data"
    },
    {
     "data": {
      "text/latex": [
       "$$P(x) = \\frac{ 3.6288e+06 }{ 2 \\cdot 40320 }0.04(0.8)^8$$"
      ],
      "text/plain": [
       "<IPython.core.display.Math object>"
      ]
     },
     "metadata": {},
     "output_type": "display_data"
    },
    {
     "data": {
      "text/latex": [
       "$$P(x) = 45 \\cdot 0.00671089$$"
      ],
      "text/plain": [
       "<IPython.core.display.Math object>"
      ]
     },
     "metadata": {},
     "output_type": "display_data"
    },
    {
     "data": {
      "text/latex": [
       "$$P(x) = 0.30199$$"
      ],
      "text/plain": [
       "<IPython.core.display.Math object>"
      ]
     },
     "metadata": {},
     "output_type": "display_data"
    }
   ],
   "source": [
    "result = binom_prob_distribution(2, 10, .2)"
   ]
  },
  {
   "cell_type": "markdown",
   "metadata": {},
   "source": [
    "### Binomial Mean Variance and Standard Deviation\n",
    "\n",
    "##### mean\n",
    "$ \\mu = np $\n",
    "##### Variance\n",
    "$ \\sigma^2 = np(1 - p) $\n",
    "##### Standard Deviation\n",
    "$ \\sigma = \\sqrt{np(1 - p)} $"
   ]
  },
  {
   "cell_type": "code",
   "execution_count": 5,
   "metadata": {},
   "outputs": [],
   "source": [
    "def binom_mean(n, p):\n",
    "    \"\"\"\n",
    "    Binomial Mean\n",
    "    \n",
    "    Args:\n",
    "        n : Number of trials\n",
    "        p : probabilty of a success\n",
    "    \"\"\"\n",
    "    display(Math(r'\\mu = np'))\n",
    "    display(Math(f'\\\\mu = {n} \\\\cdot {p}'))\n",
    "    result = n * p\n",
    "    display(Math(f'\\\\mu = {result}'))\n",
    "    return result\n",
    "\n",
    "def binom_std_deviation(n, p):\n",
    "    \"\"\"\n",
    "    Binomial Mean\n",
    "    \n",
    "    Args:\n",
    "        n : Number of trials\n",
    "        p : probabilty of a success\n",
    "    \"\"\"\n",
    "    display(Math(r'\\sigma = \\sqrt{np(1 - p)}'))\n",
    "    display(Math(f'\\\\sigma = \\sqrt{{{n} \\\\cdot {p} \\\\cdot (1 - {p})  }}'))\n",
    "    variance = n * p * (1 - p)\n",
    "    display(Math(f'\\\\sigma = \\sqrt{{{variance:g}}}'))\n",
    "    result = math.sqrt(variance)\n",
    "    display(Math(f'\\\\sigma = {result:g}'))\n",
    "    return result"
   ]
  },
  {
   "cell_type": "code",
   "execution_count": 6,
   "metadata": {},
   "outputs": [
    {
     "data": {
      "text/latex": [
       "$$\\mu = np$$"
      ],
      "text/plain": [
       "<IPython.core.display.Math object>"
      ]
     },
     "metadata": {},
     "output_type": "display_data"
    },
    {
     "data": {
      "text/latex": [
       "$$\\mu = 10 \\cdot 0.2$$"
      ],
      "text/plain": [
       "<IPython.core.display.Math object>"
      ]
     },
     "metadata": {},
     "output_type": "display_data"
    },
    {
     "data": {
      "text/latex": [
       "$$\\mu = 2.0$$"
      ],
      "text/plain": [
       "<IPython.core.display.Math object>"
      ]
     },
     "metadata": {},
     "output_type": "display_data"
    },
    {
     "data": {
      "text/latex": [
       "$$\\sigma = \\sqrt{np(1 - p)}$$"
      ],
      "text/plain": [
       "<IPython.core.display.Math object>"
      ]
     },
     "metadata": {},
     "output_type": "display_data"
    },
    {
     "data": {
      "text/latex": [
       "$$\\sigma = \\sqrt{10 \\cdot 0.2 \\cdot (1 - 0.2)  }$$"
      ],
      "text/plain": [
       "<IPython.core.display.Math object>"
      ]
     },
     "metadata": {},
     "output_type": "display_data"
    },
    {
     "data": {
      "text/latex": [
       "$$\\sigma = \\sqrt{1.6}$$"
      ],
      "text/plain": [
       "<IPython.core.display.Math object>"
      ]
     },
     "metadata": {},
     "output_type": "display_data"
    },
    {
     "data": {
      "text/latex": [
       "$$\\sigma = 1.26491$$"
      ],
      "text/plain": [
       "<IPython.core.display.Math object>"
      ]
     },
     "metadata": {},
     "output_type": "display_data"
    }
   ],
   "source": [
    "result = binom_mean(10, .2)\n",
    "result = binom_std_deviation(10, .2)"
   ]
  },
  {
   "cell_type": "code",
   "execution_count": 7,
   "metadata": {},
   "outputs": [
    {
     "data": {
      "text/latex": [
       "$$x = 1$$"
      ],
      "text/plain": [
       "<IPython.core.display.Math object>"
      ]
     },
     "metadata": {},
     "output_type": "display_data"
    },
    {
     "data": {
      "text/latex": [
       "$$n = 10$$"
      ],
      "text/plain": [
       "<IPython.core.display.Math object>"
      ]
     },
     "metadata": {},
     "output_type": "display_data"
    },
    {
     "data": {
      "text/latex": [
       "$$p = 0.98$$"
      ],
      "text/plain": [
       "<IPython.core.display.Math object>"
      ]
     },
     "metadata": {},
     "output_type": "display_data"
    },
    {
     "data": {
      "text/latex": [
       "$$P(x) = \\frac{n!}{x!(n - x)!}p^x(1 - p)^{n-x}$$"
      ],
      "text/plain": [
       "<IPython.core.display.Math object>"
      ]
     },
     "metadata": {},
     "output_type": "display_data"
    },
    {
     "data": {
      "text/latex": [
       "$$P(x) = \\frac{ 10! }{ 1!(10 - 1)!} 0.98^1(1 - 0.98)^{10-1}$$"
      ],
      "text/plain": [
       "<IPython.core.display.Math object>"
      ]
     },
     "metadata": {},
     "output_type": "display_data"
    },
    {
     "data": {
      "text/latex": [
       "$$P(x) = \\frac{ 3.6288e+06 }{ 1 \\cdot 362880 }0.98(0.02)^9$$"
      ],
      "text/plain": [
       "<IPython.core.display.Math object>"
      ]
     },
     "metadata": {},
     "output_type": "display_data"
    },
    {
     "data": {
      "text/latex": [
       "$$P(x) = 10 \\cdot 5.0176e-16$$"
      ],
      "text/plain": [
       "<IPython.core.display.Math object>"
      ]
     },
     "metadata": {},
     "output_type": "display_data"
    },
    {
     "data": {
      "text/latex": [
       "$$P(x) = 5.0176e-15$$"
      ],
      "text/plain": [
       "<IPython.core.display.Math object>"
      ]
     },
     "metadata": {},
     "output_type": "display_data"
    },
    {
     "name": "stdout",
     "output_type": "stream",
     "text": [
      "5.01760000000004e-15\n"
     ]
    }
   ],
   "source": [
    "result = binom_prob_distribution(1, 10, 0.98)\n",
    "print(f'{result}')"
   ]
  },
  {
   "cell_type": "markdown",
   "metadata": {},
   "source": [
    "### Normal Distribution\n",
    "\n",
    "#### Normal Density Function\n",
    "$ f(x) = \\frac{1}{\\sigma\\sqrt{2\\pi}}e^{-\\frac{1}{2}(\\frac{x-\\mu}{\\sigma})^2} $"
   ]
  },
  {
   "cell_type": "code",
   "execution_count": 8,
   "metadata": {},
   "outputs": [],
   "source": [
    "def normal_density_function(x, mean, std_dev):\n",
    "    \"\"\"\n",
    "    Binomial Mean\n",
    "    \n",
    "    Args:\n",
    "        x : \n",
    "        mean : Average value - Centre of a normal distribution\n",
    "        std_dev : Distribution of data - Widens or narrows curve\n",
    "    \"\"\"\n",
    "    display(Math(r'f(x) = \\frac{1}{\\sigma\\sqrt{2\\pi}}e^{-\\frac{1}{2}(\\frac{x-\\mu}{\\sigma})^2}'))\n",
    "    display(Math(f'f(x) = \\\\frac{{1}}{{ {std_dev} \\\\sqrt{{2 \\\\times {math.pi:5f} }}}}{math.e:.5f}^{{-\\\\frac{{1}}{{2}}(\\\\frac{{{x}-{mean}}}{{{std_dev}}})^2}}'))\n",
    "    pi_squared = 2 * math.pi\n",
    "    coeff = (1/2 * ((x - mean) / std_dev)**2)\n",
    "    display(Math(f'f(x) = \\\\frac{{1}}{{ {std_dev} \\\\sqrt{{ {pi_squared:5f} }}}}{math.e:.5f}^{{- {coeff} }}'))\n",
    "    e_coeff = math.e**-coeff\n",
    "    \n",
    "    std_dev_by_pi_sqr = std_dev *(math.sqrt(pi_squared))\n",
    "    display(Math(f'f(x) = \\\\frac{{1}}{{ {std_dev_by_pi_sqr:g} }}{e_coeff:g}'))\n",
    "    result = (1/ std_dev_by_pi_sqr) * e_coeff\n",
    "    display(Math(f'f(x) = {result:g}'))\n",
    "    return result\n",
    "\n",
    "def normal_density_function_range(X, mean, std_dev):\n",
    "    \"\"\"\n",
    "    Binomial Mean\n",
    "    \n",
    "    Args:\n",
    "        x : \n",
    "        mean : Average value - Centre of a normal distribution\n",
    "        std_dev : Distribution of data - Widens or narrows curve\n",
    "    \"\"\"\n",
    "    results = []\n",
    "    for x in X:\n",
    "        pi_squared = 2 * math.pi\n",
    "        coeff = (1/2 * ((x - mean) / std_dev)**2)\n",
    "        e_coeff = math.e**-coeff\n",
    "        std_dev_by_pi_sqr = std_dev *(math.sqrt(pi_squared))\n",
    "        results.append((1/ std_dev_by_pi_sqr) * e_coeff)\n",
    "    return results\n"
   ]
  },
  {
   "cell_type": "code",
   "execution_count": 9,
   "metadata": {},
   "outputs": [
    {
     "name": "stdout",
     "output_type": "stream",
     "text": [
      "z-score for 0.95 confidence 1.960\n",
      "% for z-score 0.975\n"
     ]
    },
    {
     "data": {
      "image/png": "[encoded data removed]",
      "text/plain": [
       "<Figure size 432x288 with 1 Axes>"
      ]
     },
     "metadata": {
      "needs_background": "light"
     },
     "output_type": "display_data"
    },
    {
     "name": "stdout",
     "output_type": "stream",
     "text": [
      "p-value 0.024997895148220373\n",
      "(83.29448560287199, 94.30551439712801)\n",
      "-0.42720018726587755\n",
      "Is -1.960 < -0.42720018726587755 < 1.960\n"
     ]
    },
    {
     "data": {
      "text/plain": [
       "0.9930531492113757"
      ]
     },
     "execution_count": 9,
     "metadata": {},
     "output_type": "execute_result"
    }
   ],
   "source": [
    "def confidence(percent):\n",
    "    # Convert a confidence percentage to a z-score\n",
    "    assert 0 <= percent <= 1\n",
    "    value = 1-(1-percent)/2\n",
    "    z = norm.ppf(value)\n",
    "    return z\n",
    "\n",
    "def confidence_interval(percent, mean, variance, sample_size):\n",
    "    lower = mean - (confidence(percent) * (variance / math.sqrt(sample_size)))\n",
    "    upper = mean + (confidence(percent) * (variance / math.sqrt(sample_size)))\n",
    "    return lower, upper\n",
    "\n",
    "def cdf(x, mean=0, std_dev=1):\n",
    "    z = (x - mean) / std_dev\n",
    "    return (1.0 + math.erf(z / math.sqrt(2.0))) / 2.0\n",
    "\n",
    "def cdf2(x, mean, std_dev):\n",
    "    z = (x - mean) / std_dev\n",
    "    return (1.0 + math.erf(z / math.sqrt(2.0))) / 2.0\n",
    "\n",
    "def area_under_curve(a, b, mean, std_dev):\n",
    "    assert b > a\n",
    "    z_a = (a - mean) / std_dev\n",
    "    z_b = (b - mean) / std_dev\n",
    "    area_a = (1.0 + math.erf(z_a / math.sqrt(2.0))) / 2.0\n",
    "    area_b = (1.0 + math.erf(z_b / math.sqrt(2.0))) / 2.0\n",
    "    return area_b - area_a\n",
    "\n",
    "def standardised_z_score(x, mu, sigma, n):\n",
    "    z = (x - mu) / (sigma / math.sqrt(n))\n",
    "    return z\n",
    "\n",
    "def p_value(z, mean, std_dev, z_type='lt'):\n",
    "    if z_type == 'lt':\n",
    "        p = cdf(z, mean, std_dev)\n",
    "    elif z_type =='gt':\n",
    "        p = 1 - cdf(z, mean, std_dev)\n",
    "    elif z_type == 'neq':\n",
    "        cdf(z, mean, std_dev) + 1 - cdf(z, mean, std_dev)\n",
    "        \n",
    "    return p\n",
    "\n",
    "def plot_normal_distribution(mu, sigma, Z=None, z_type='lt', intervals=100):\n",
    "    assert z_type in ['neq', 'lt', 'gt']\n",
    "    \n",
    "    x = np.linspace(mu - sigma * 4, mu + sigma * 4,intervals)\n",
    "    plt.title('Normal Distribution')\n",
    "    plt.xlabel('$µ$')\n",
    "    plt.ylabel('$f(x)$')\n",
    "    plt.plot(x, normal_density_function_range(x, mu, sigma))\n",
    "    \n",
    "    if Z and z_type in ['lt', 'neq']:\n",
    "        start = None\n",
    "        end = Z\n",
    "        if start == None:\n",
    "            fill_x = [v for v in x if v < end]\n",
    "        else:\n",
    "            fill_x = [v for v in x if start < v < end]\n",
    "        plt.axvline(Z, label=Z, color='k', linestyle='dashed', linewidth=1)\n",
    "        plt.fill_between(fill_x, [0]*len(fill_x), normal_density_function_range(fill_x, mu, sigma), color='red')\n",
    "    if Z and z_type in ['gt', 'neq']:\n",
    "        end = Z\n",
    "        fill_x = [v for v in x if v > end * -1]\n",
    "        plt.axvline(Z * -1, label=Z * -1, color='k', linestyle='dashed', linewidth=1)\n",
    "        plt.fill_between(fill_x, [0]*len(fill_x), normal_density_function_range(fill_x, mu, sigma), color='red', label='Reject != Z')\n",
    "    plt.legend(loc=0)\n",
    "    plt.show()\n",
    "\n",
    "\n",
    "mu = 0\n",
    "sigma = 1\n",
    "Z = -1.96\n",
    "\n",
    "conf = 0.95\n",
    "print(f'z-score for {conf} confidence {confidence(conf):.3f}')\n",
    "\n",
    "print('% for z-score', cdf(confidence(conf)))\n",
    "\n",
    "plot_normal_distribution(mu, sigma, Z, z_type='gt')\n",
    "\n",
    "print('p-value', p_value(1.96, 0, 1, 'gt'))\n",
    "\n",
    "print(confidence_interval(.95, 88.8, 24, 73))\n",
    "\n",
    "# H0 = 90\n",
    "# H1 != 90\n",
    "rejection_region = confidence(.95)\n",
    "hypothesis_zero = 90\n",
    "sample_mean = 88.8\n",
    "variance = 24\n",
    "sample_size = 73\n",
    "conf = 0.95\n",
    "test_z = standardised_z_score(88.8, 90, 24, 73)\n",
    "print(test_z)\n",
    "\n",
    "# Test hypothesis\n",
    "print(f'Is -{rejection_region:.3f} < {test_z} < {rejection_region:.3f}')\n",
    "\n",
    "norm.cdf(2.46)"
   ]
  },
  {
   "cell_type": "code",
   "execution_count": 10,
   "metadata": {},
   "outputs": [
    {
     "name": "stdout",
     "output_type": "stream",
     "text": [
      "Set up hypotheses\n"
     ]
    },
    {
     "data": {
      "text/latex": [
       "$$H_0 : \\mu = 90$$"
      ],
      "text/plain": [
       "<IPython.core.display.Math object>"
      ]
     },
     "metadata": {},
     "output_type": "display_data"
    },
    {
     "data": {
      "text/latex": [
       "$$H_1 : \\mu \\neq 90$$"
      ],
      "text/plain": [
       "<IPython.core.display.Math object>"
      ]
     },
     "metadata": {},
     "output_type": "display_data"
    },
    {
     "name": "stdout",
     "output_type": "stream",
     "text": [
      "Calculate test statistic\n"
     ]
    },
    {
     "data": {
      "text/latex": [
       "$$Z = \\frac{\\bar{X} - \\mu_0}{\\frac{\\sigma}{\\sqrt{n}}} =  \\frac{ 88.8 - 90 }{\\frac{ 24 }{\\sqrt{ 73 }}} = -0.4272$$"
      ],
      "text/plain": [
       "<IPython.core.display.Math object>"
      ]
     },
     "metadata": {},
     "output_type": "display_data"
    },
    {
     "name": "stdout",
     "output_type": "stream",
     "text": [
      "Calculate rejection regions\n"
     ]
    },
    {
     "data": {
      "text/latex": [
       "$$-1.960 < -0.4272 < 1.960$$"
      ],
      "text/plain": [
       "<IPython.core.display.Math object>"
      ]
     },
     "metadata": {},
     "output_type": "display_data"
    },
    {
     "name": "stdout",
     "output_type": "stream",
     "text": [
      "Hypothesis test True\n",
      "H0 is not rejected\n"
     ]
    }
   ],
   "source": [
    "x_bar = 88.8  # Sample mean\n",
    "n = 73        # sample size\n",
    "sigma = 24    # Standard deviation\n",
    "h = 90        # hypothesis mean\n",
    "a = 0.05      # significance level\n",
    "conf = 1 - a  # confidence level\n",
    "\n",
    "### Hypothesis Test\n",
    "# 1) Establish hypothesis\n",
    "print('Set up hypotheses')\n",
    "display(Math(f'H_0 : \\\\mu = {h}'))\n",
    "display(Math(f'H_1 : \\\\mu \\\\neq {h}'))\n",
    "\n",
    "# 2) Calculate test statistic\n",
    "print('Calculate test statistic')\n",
    "test_z = standardised_z_score(x_bar, h, sigma, n)\n",
    "display(Math(f'Z = \\\\frac{{\\\\bar{{X}} - \\\\mu_0}}{{\\\\frac{{\\\\sigma}}{{\\\\sqrt{{n}}}}}} = '\n",
    "             f' \\\\frac{{ {x_bar} - {h} }}{{\\\\frac{{ {sigma} }}{{\\\\sqrt{{ {n} }}}}}} = {test_z:g}'))\n",
    "\n",
    "#\n",
    "print('Calculate rejection regions')\n",
    "rejection_region_lower = -1 * confidence(conf)\n",
    "rejection_region_upper = confidence(conf)\n",
    "\n",
    "display(Math(f'{rejection_region_lower:.3f} < {test_z:g} < {rejection_region_upper:.3f}'))\n",
    "print('Hypothesis test', rejection_region_lower < test_z < rejection_region_upper)\n",
    "print('H0 is not rejected')\n"
   ]
  },
  {
   "cell_type": "code",
   "execution_count": 11,
   "metadata": {},
   "outputs": [
    {
     "data": {
      "text/latex": [
       "$$f(x) = \\frac{1}{\\sigma\\sqrt{2\\pi}}e^{-\\frac{1}{2}(\\frac{x-\\mu}{\\sigma})^2}$$"
      ],
      "text/plain": [
       "<IPython.core.display.Math object>"
      ]
     },
     "metadata": {},
     "output_type": "display_data"
    },
    {
     "data": {
      "text/latex": [
       "$$f(x) = \\frac{1}{ 5 \\sqrt{2 \\times 3.141593 }}2.71828^{-\\frac{1}{2}(\\frac{62-50}{5})^2}$$"
      ],
      "text/plain": [
       "<IPython.core.display.Math object>"
      ]
     },
     "metadata": {},
     "output_type": "display_data"
    },
    {
     "data": {
      "text/latex": [
       "$$f(x) = \\frac{1}{ 5 \\sqrt{ 6.283185 }}2.71828^{- 2.88 }$$"
      ],
      "text/plain": [
       "<IPython.core.display.Math object>"
      ]
     },
     "metadata": {},
     "output_type": "display_data"
    },
    {
     "data": {
      "text/latex": [
       "$$f(x) = \\frac{1}{ 12.5331 }0.0561348$$"
      ],
      "text/plain": [
       "<IPython.core.display.Math object>"
      ]
     },
     "metadata": {},
     "output_type": "display_data"
    },
    {
     "data": {
      "text/latex": [
       "$$f(x) = 0.00447891$$"
      ],
      "text/plain": [
       "<IPython.core.display.Math object>"
      ]
     },
     "metadata": {},
     "output_type": "display_data"
    }
   ],
   "source": [
    "result = normal_density_function(62, 50, 5)"
   ]
  },
  {
   "cell_type": "code",
   "execution_count": 12,
   "metadata": {},
   "outputs": [
    {
     "name": "stdout",
     "output_type": "stream",
     "text": [
      "3.2792780189789425e-98 0.8413447460685429\n"
     ]
    }
   ],
   "source": [
    "print(norm.cdf(-21, 0, 1), norm.cdf(1100, 1000, 100))"
   ]
  },
  {
   "cell_type": "code",
   "execution_count": 13,
   "metadata": {},
   "outputs": [
    {
     "name": "stdout",
     "output_type": "stream",
     "text": [
      "0.9750021048517796\n"
     ]
    }
   ],
   "source": [
    "\n",
    "\n",
    "def phi(x):\n",
    "    #'Cumulative distribution function for the standard normal distribution'\n",
    "    return (1.0 + math.erf(x / math.sqrt(2.0))) / 2.0\n",
    "#print(norm.cdf(1, 0, 1))\n",
    "print(cdf(1.96, 0, 1))\n",
    "#print(cdf(140, 150, (13.7/math.sqrt(10))))\n",
    "#print(area_under_curve(-0.71, 0.92, 0, 1))\n"
   ]
  },
  {
   "cell_type": "code",
   "execution_count": null,
   "metadata": {},
   "outputs": [],
   "source": []
  },
  {
   "cell_type": "code",
   "execution_count": 14,
   "metadata": {},
   "outputs": [
    {
     "data": {
      "image/png": "[encoded data removed]",
      "text/plain": [
       "<Figure size 432x288 with 1 Axes>"
      ]
     },
     "metadata": {
      "needs_background": "light"
     },
     "output_type": "display_data"
    },
    {
     "name": "stdout",
     "output_type": "stream",
     "text": [
      "sample mean 50.00828561434889\n",
      "sample variance 4.094666339122204\n",
      "sample std dev 2.023528190839506\n"
     ]
    }
   ],
   "source": [
    "import random\n",
    "\n",
    "n = 200  # Sample observation size\n",
    "m = 2000 # Samples\n",
    "data = [\n",
    "    [random.randrange(0, 100) + random.random() for x in range(n)] \n",
    "    for x in range(m)\n",
    "]\n",
    "\n",
    "sigmas = [mean(d) for d in data]\n",
    "\n",
    "variances = [sample_variance(d) for d in data]\n",
    "\n",
    "plt.hist(sigmas, 20, rwidth=0.8)\n",
    "plt.show()\n",
    "print('sample mean', mean(sigmas))\n",
    "print('sample variance', sample_variance(sigmas))\n",
    "print('sample std dev', sample_deviation(sigmas))"
   ]
  },
  {
   "cell_type": "code",
   "execution_count": 15,
   "metadata": {},
   "outputs": [
    {
     "name": "stdout",
     "output_type": "stream",
     "text": [
      "Checking if sample variances are equal\n"
     ]
    },
    {
     "name": "stderr",
     "output_type": "stream",
     "text": [
      "/home/campbell/.local/share/virtualenvs/STAT7055_-_Introduction_to_Statistics-Db-TzhsD/lib/python3.7/site-packages/scipy/stats/_continuous_distns.py:1591: RuntimeWarning: divide by zero encountered in log\n",
      "  lPx = m/2 * np.log(m) + n/2 * np.log(n) + (n/2 - 1) * np.log(x)\n"
     ]
    },
    {
     "data": {
      "image/png": "[encoded data removed]",
      "text/plain": [
       "<Figure size 432x288 with 1 Axes>"
      ]
     },
     "metadata": {
      "needs_background": "light"
     },
     "output_type": "display_data"
    }
   ],
   "source": [
    "import numpy as np\n",
    "\n",
    "print('Checking if sample variances are equal')\n",
    "\n",
    "dfn, dfd = 18, 57\n",
    "x = np.linspace(0,3,100)\n",
    "plt.title('F-Distribution')\n",
    "#plt.plot(x, f.pdf(x, dfn, dfd), 'r-', lw=5, alpha=0.6, label='f pdf')\n",
    "plt.plot(x, f(dfn, dfd).pdf(x), 'r-', lw=5, alpha=0.6, label='f pdf')\n",
    "plt.axvline(1.8155, label=1.8155, color='k', linestyle='dashed', linewidth=1)\n",
    "plt.axvline(2.53, label=2.53, color='r', linestyle='dashed', linewidth=1)\n",
    "plt.show()"
   ]
  },
  {
   "cell_type": "code",
   "execution_count": 16,
   "metadata": {},
   "outputs": [
    {
     "data": {
      "image/png": "[encoded data removed]",
      "text/plain": [
       "<Figure size 432x288 with 1 Axes>"
      ]
     },
     "metadata": {
      "needs_background": "light"
     },
     "output_type": "display_data"
    },
    {
     "name": "stdout",
     "output_type": "stream",
     "text": [
      "T-value 1.98157\n",
      "Probabilty 0.975\n"
     ]
    }
   ],
   "source": [
    "## Setup      \n",
    "dof = 98        # Degrees of freedom\n",
    "alpha = 0.05    # Significence level\n",
    "ntails = 1      # Number of tails \n",
    "\n",
    "## Calculate critical t-score\n",
    "tcrit = abs(t.ppf(alpha/ntails, dof))\n",
    "\n",
    "x = np.linspace(-4,4,100)\n",
    "plt.title('T-Distribution')\n",
    "plt.plot(x, t.pdf(x, dof), 'r-', alpha=0.6, label='t pdf')\n",
    "plt.axvline(-tcrit, label=f'{-tcrit:g}', color='b', linestyle='dashed', linewidth=1)\n",
    "plt.axvline(tcrit, label=f'{tcrit:g}', color='b', linestyle='dashed', linewidth=1)\n",
    "plt.legend(loc=0)\n",
    "plt.show()\n",
    "\n",
    "# define probability\n",
    "p = 0.975\n",
    "df = 111\n",
    "# retrieve value <= probability\n",
    "value = t.ppf(p, df)\n",
    "print(f'T-value {value:g}')\n",
    "# confirm with cdf\n",
    "p = t.cdf(value, df)\n",
    "print(f'Probabilty {p:g}')"
   ]
  },
  {
   "cell_type": "code",
   "execution_count": 17,
   "metadata": {},
   "outputs": [
    {
     "data": {
      "image/png": "[encoded data removed]",
      "text/plain": [
       "<Figure size 432x288 with 1 Axes>"
      ]
     },
     "metadata": {
      "needs_background": "light"
     },
     "output_type": "display_data"
    }
   ],
   "source": [
    "# Example of a Chi-Squared distribution and critical region\n",
    "\n",
    "from scipy.stats import chi2\n",
    "\n",
    "def expected_counts(data):\n",
    "    total = np.sum(data)\n",
    "    cols = np.sum(data, axis=(0))\n",
    "    rows = np.sum(data, axis=(1))\n",
    "\n",
    "    expected_values = []\n",
    "    \n",
    "    for row in rows:\n",
    "        for col in cols:\n",
    "            expected_values.append(col * row / total)\n",
    "    return list(zip(list(data.flat), expected_values))\n",
    "\n",
    "def calc_chi_squared_statistic(data):\n",
    "    total = 0\n",
    "    for sample, expected in data:\n",
    "        total += ((sample - expected)**2) / expected\n",
    "    \n",
    "    chi_squared = total\n",
    "    return chi_squared\n",
    "    \n",
    "\n",
    "base_data = np.array(\n",
    "    [\n",
    "        [6, 33, 9, 15, 33],\n",
    "        [14, 32, 26, 9, 29]\n",
    "    ]\n",
    ")\n",
    "\n",
    "base_data = np.array(\n",
    "    [\n",
    "         [37, 11, 35],\n",
    "         [18, 25, 10],\n",
    "         [20, 24, 20]\n",
    "    ]\n",
    ")\n",
    "\n",
    "data = expected_counts(base_data)\n",
    "\n",
    "chi_squared_statistic = calc_chi_squared_statistic(data)\n",
    "c = base_data.shape[0] # no of columns\n",
    "r = base_data.shape[1] # no of rows\n",
    "dof = (r - 1) * (c - 1)\n",
    "alpha = 0.05\n",
    "# Calculate critical region from alpha (confidence level)\n",
    "crit = chi2.isf(alpha, df=dof)\n",
    "\n",
    "x = np.linspace(-1, max(chi_squared_statistic, crit) + 2, 100)\n",
    "plt.title(r'$\\chi^2$ Distribution')\n",
    "plt.xlabel(r'$\\chi^2$')\n",
    "plt.ylabel(r'$f(\\chi^2)$')\n",
    "\n",
    "plt.plot(x, chi2.pdf(x, dof), 'k', lw=2, alpha=0.6, label='$\\chi^2$ pdf')\n",
    "\n",
    "plt.axvline(\n",
    "    chi_squared_statistic, label=f'$\\\\chi^2$: {chi_squared_statistic:g}', \n",
    "    color='b', linestyle='dashed', linewidth=1\n",
    ")\n",
    "plt.axvline(\n",
    "    dof, label=f'DOF: {dof}', \n",
    "    color='w', linestyle='dashed', linewidth=1\n",
    ")\n",
    "\n",
    "fill_x = [e for e in x if e > crit]\n",
    "plt.fill_between(\n",
    "    fill_x, [0]*len(fill_x), chi2.pdf(fill_x, dof), \n",
    "    color='red', label=f'$\\\\alpha$ critical: {crit:g}'\n",
    ")\n",
    "\n",
    "if chi_squared_statistic > crit:\n",
    "    text = '$H_0$ rejected $\\\\chi^2 > \\\\alpha$'\n",
    "else:\n",
    "    text = '$H_0$ not rejected $\\\\chi^2 < \\\\alpha$'\n",
    "\n",
    "plt.figtext(0.5, -0.1, text, wrap=True, horizontalalignment='center', fontsize=12)\n",
    "\n",
    "plt.legend(loc=0)\n",
    "plt.show()"
   ]
  },
  {
   "cell_type": "code",
   "execution_count": 18,
   "metadata": {},
   "outputs": [
    {
     "data": {
      "image/png": "[encoded data removed]",
      "text/plain": [
       "<Figure size 432x288 with 1 Axes>"
      ]
     },
     "metadata": {
      "needs_background": "light"
     },
     "output_type": "display_data"
    }
   ],
   "source": [
    "\n",
    "data = [(5, 23), (9, 30), (3, 18), (7,26), (6, 23)]\n",
    "\n",
    "plt.scatter([ x for x,y in data], [y for x,y in data])\n",
    "plt.show()"
   ]
  },
  {
   "cell_type": "code",
   "execution_count": null,
   "metadata": {},
   "outputs": [],
   "source": []
  },
  {
   "cell_type": "code",
   "execution_count": 19,
   "metadata": {},
   "outputs": [
    {
     "name": "stdout",
     "output_type": "stream",
     "text": [
      "sample mean: 370.16\n",
      "1.96 * 15.0\n",
      "340.76000000000005 399.56\n"
     ]
    }
   ],
   "source": [
    "# Confidence Interval calculation\n",
    "data = [\n",
    "    235, 374, 309, 499, 253,\n",
    "    421, 361, 514, 462, 369,\n",
    "    394, 439, 348, 344, 330,\n",
    "    261, 374, 302, 466, 535,\n",
    "    386, 316, 296, 332, 334\n",
    "]\n",
    "a = 0.05\n",
    "sigma = 75\n",
    "x_bar = mean(data)\n",
    "print('sample mean:', x_bar)\n",
    "\n",
    "ratio = sigma / math.sqrt(len(data))\n",
    "error = round(norm.ppf(1 - (a /2)), 3)\n",
    "print(error, '*', ratio)\n",
    "result = ratio * error\n",
    "LCL = x_bar - result\n",
    "UCL = x_bar + result\n",
    "\n",
    "print(LCL, UCL)\n"
   ]
  },
  {
   "cell_type": "code",
   "execution_count": 20,
   "metadata": {},
   "outputs": [
    {
     "data": {
      "image/png": "[encoded data removed]",
      "text/plain": [
       "<Figure size 432x288 with 1 Axes>"
      ]
     },
     "metadata": {
      "needs_background": "light"
     },
     "output_type": "display_data"
    },
    {
     "name": "stdout",
     "output_type": "stream",
     "text": [
      "                            OLS Regression Results                            \n",
      "==============================================================================\n",
      "Dep. Variable:                      y   R-squared:                       0.764\n",
      "Model:                            OLS   Adj. R-squared:                  0.762\n",
      "Method:                 Least Squares   F-statistic:                     317.4\n",
      "Date:                Fri, 02 Nov 2018   Prob (F-statistic):           1.70e-32\n",
      "Time:                        08:38:33   Log-Likelihood:                 45.008\n",
      "No. Observations:                 100   AIC:                            -86.02\n",
      "Df Residuals:                      98   BIC:                            -80.81\n",
      "Df Model:                           1                                         \n",
      "Covariance Type:            nonrobust                                         \n",
      "==============================================================================\n",
      "                 coef    std err          t      P>|t|      [0.025      0.975]\n",
      "------------------------------------------------------------------------------\n",
      "const          0.2691      0.033      8.246      0.000       0.204       0.334\n",
      "x1             0.9744      0.055     17.814      0.000       0.866       1.083\n",
      "==============================================================================\n",
      "Omnibus:                       50.004   Durbin-Watson:                   1.895\n",
      "Prob(Omnibus):                  0.000   Jarque-Bera (JB):                6.864\n",
      "Skew:                           0.031   Prob(JB):                       0.0323\n",
      "Kurtosis:                       1.718   Cond. No.                         4.54\n",
      "==============================================================================\n",
      "\n",
      "Warnings:\n",
      "[1] Standard Errors assume that the covariance matrix of the errors is correctly specified.\n"
     ]
    },
    {
     "data": {
      "image/png": "[encoded data removed]",
      "text/plain": [
       "<Figure size 432x288 with 1 Axes>"
      ]
     },
     "metadata": {
      "needs_background": "light"
     },
     "output_type": "display_data"
    }
   ],
   "source": [
    "import statsmodels.api as sm\n",
    "from scipy import stats\n",
    "\n",
    "x = np.random.rand(100)\n",
    "y = x + np.random.rand(100)*0.5\n",
    "\n",
    "slope, intercept, r_value, p_value, std_err = stats.linregress(x,y)\n",
    "\n",
    "plt.scatter(x, y, label='Data')\n",
    "plt.plot(x, intercept + slope * x, 'r', label='Fitted line')\n",
    "plt.legend()\n",
    "text = f'Slope ($\\\\beta_1$): {slope:.4f}\\n Intercept ($\\\\beta_0$): {intercept:.4f}\\n $R^2$: {r_value**2:.3f}\\n P-Value: {p_value:.3f}'\n",
    "plt.figtext(0.5, -0.2, text, wrap=True, horizontalalignment='center', fontsize=12)\n",
    "plt.show()\n",
    "\n",
    "results = sm.OLS(y, sm.add_constant(x)).fit()\n",
    "print(results.summary())\n",
    "\n",
    "X_plot = np.linspace(0,1,100)\n",
    "plt.plot(x, results.params[0] + results.params[1] * x, 'r', label='Fitted line')\n",
    "\n",
    "plt.scatter(x, y, label='Data')\n",
    "plt.legend()\n",
    "plt.show()"
   ]
  },
  {
   "cell_type": "code",
   "execution_count": 21,
   "metadata": {},
   "outputs": [
    {
     "data": {
      "image/png": "[encoded data removed]",
      "text/plain": [
       "<Figure size 432x288 with 1 Axes>"
      ]
     },
     "metadata": {
      "needs_background": "light"
     },
     "output_type": "display_data"
    }
   ],
   "source": [
    "###### import statsmodels.api as sm\n",
    "from scipy import stats\n",
    "import random\n",
    "\n",
    "data_x = np.random.rand(100)\n",
    "data_y = data_x + np.random.rand(100)*0.5\n",
    "slope, intercept, r_value, p_value, std_err = stats.linregress(data_x, data_y)\n",
    "\n",
    "min_x = min(data_x)\n",
    "max_x = max(data_x)\n",
    "\n",
    "plt.plot([min_x, max_x], [intercept + slope * x for x in [min_x, max_x]], 'k', linestyle='dotted', linewidth=2, label='Population Fitted line')\n",
    "text = f'Population Data\\nSlope ($\\\\beta_1$): {slope:.4f}\\nIntercept ($\\\\beta_0$): {intercept:.4f}\\n $R^2$: {r_value**2:.3f}\\n P-Value: {p_value:.3f}\\nStd error: {std_err:.3f}'\n",
    "plt.figtext(0.95, 0.15, text, wrap=False, horizontalalignment='center', fontsize=12,\n",
    "           bbox=dict(facecolor='white'), ha='left'\n",
    ")\n",
    "\n",
    "sample_size = 30\n",
    "\n",
    "samples = random.choices(range(len(data_x)), k=sample_size)\n",
    "x_bar = np.array([data_x[s] for s in samples])\n",
    "y_bar = np.array([data_y[s] for s in samples])\n",
    "\n",
    "slope, intercept, r_value, p_value, std_err = stats.linregress(x_bar, y_bar)\n",
    "\n",
    "min_x = min(x_bar)\n",
    "max_x = max(x_bar)\n",
    "\n",
    "plt.scatter(x_bar, y_bar, s=20, color='r', label='Sample')\n",
    "plt.scatter(data_x, data_y, s=5, color='gray', label='Population')\n",
    "#plt.plot(x_bar, intercept + slope * x_bar, 'b', label='Sample Fitted Line')\n",
    "plt.plot([min_x, max_x], [intercept + slope * x for x in [min_x, max_x]], 'b', label='Sample Fitted Line')\n",
    "plt.legend()\n",
    "text = (\n",
    "    f'Sample Data\\n'\n",
    "    f'Slope ($\\\\hat{{\\\\beta_1}}$): {slope:.4f}\\n'\n",
    "    f'Intercept ($\\\\hat{{\\\\beta_0}}$): {intercept:.4f}\\n'\n",
    "    f'$R^2$: {r_value**2:.3f}\\n'\n",
    "    f'P-Value: {p_value:.3f}\\n'\n",
    "    f'Std error: {std_err:.3f}'\n",
    ")\n",
    "        \n",
    "#plt.figtext(1, .0, text, wrap=True, horizontalalignment='center', fontsize=12)\n",
    "plt.figtext(\n",
    "    0.95, 0.58, text, wrap=False, horizontalalignment='center', fontsize=12,\n",
    "    bbox=dict(facecolor='white'), ha='left'\n",
    "\n",
    ")\n",
    "\n",
    "#plt.rcParams[\"figure.figsize\"] = 10,10\n",
    "plt.show()\n",
    "\n"
   ]
  },
  {
   "cell_type": "code",
   "execution_count": 77,
   "metadata": {},
   "outputs": [
    {
     "name": "stdout",
     "output_type": "stream",
     "text": [
      "24\n",
      "24\n",
      "24\n",
      "   Interest_Rate  Unemployment_Rate\n",
      "0           2.75                5.3\n",
      "Intercept: \n",
      " 1798.4039776258546\n",
      "Coefficients: \n",
      " [ 345.54008701 -250.14657137]\n",
      "Predicted Stock Index Price: \n",
      " [1422.86238865]\n",
      "                            OLS Regression Results                            \n",
      "==============================================================================\n",
      "Dep. Variable:      Stock_Index_Price   R-squared:                       0.898\n",
      "Model:                            OLS   Adj. R-squared:                  0.888\n",
      "Method:                 Least Squares   F-statistic:                     92.07\n",
      "Date:                Fri, 02 Nov 2018   Prob (F-statistic):           4.04e-11\n",
      "Time:                        10:16:05   Log-Likelihood:                -134.61\n",
      "No. Observations:                  24   AIC:                             275.2\n",
      "Df Residuals:                      21   BIC:                             278.8\n",
      "Df Model:                           2                                         \n",
      "Covariance Type:            nonrobust                                         \n",
      "=====================================================================================\n",
      "                        coef    std err          t      P>|t|      [0.025      0.975]\n",
      "-------------------------------------------------------------------------------------\n",
      "const              1798.4040    899.248      2.000      0.059     -71.685    3668.493\n",
      "Interest_Rate       345.5401    111.367      3.103      0.005     113.940     577.140\n",
      "Unemployment_Rate  -250.1466    117.950     -2.121      0.046    -495.437      -4.856\n",
      "==============================================================================\n",
      "Omnibus:                        2.691   Durbin-Watson:                   0.530\n",
      "Prob(Omnibus):                  0.260   Jarque-Bera (JB):                1.551\n",
      "Skew:                          -0.612   Prob(JB):                        0.461\n",
      "Kurtosis:                       3.226   Cond. No.                         394.\n",
      "==============================================================================\n",
      "\n",
      "Warnings:\n",
      "[1] Standard Errors assume that the covariance matrix of the errors is correctly specified.\n",
      "DF 0    1422.862389\n",
      "dtype: float64\n",
      "Tuple [-375.54158898]\n"
     ]
    },
    {
     "data": {
      "image/png": "[encoded data removed]",
      "text/plain": [
       "<Figure size 432x288 with 1 Axes>"
      ]
     },
     "metadata": {
      "needs_background": "light"
     },
     "output_type": "display_data"
    },
    {
     "data": {
      "image/png": "[encoded data removed]",
      "text/plain": [
       "<Figure size 432x288 with 1 Axes>"
      ]
     },
     "metadata": {
      "needs_background": "light"
     },
     "output_type": "display_data"
    }
   ],
   "source": [
    "from pandas import DataFrame\n",
    "from sklearn import linear_model\n",
    "import statsmodels.api as sm\n",
    "\n",
    "Stock_Market = {\n",
    "    'Year': [2017,2017,2017,2017,2017,2017,2017,2017,2017,2017,2017,2017,2016,2016,2016,2016,2016,2016,2016,2016,2016,2016,2016,2016],\n",
    "    'Month': [12, 11,10,9,8,7,6,5,4,3,2,1,12,11,10,9,8,7,6,5,4,3,2,1],\n",
    "    'Interest_Rate': [2.75,2.5,2.5,2.5,2.5,2.5,2.5,2.25,2.25,2.25,2,2,2,1.75,1.75,1.75,1.75,1.75,1.75,1.75,1.75,1.75,1.75,1.75],\n",
    "    'Unemployment_Rate': [5.3,5.3,5.3,5.3,5.4,5.6,5.5,5.5,5.5,5.6,5.7,5.9,6,5.9,5.8,6.1,6.2,6.1,6.1,6.1,5.9,6.2,6.2,6.1],\n",
    "    'Stock_Index_Price': [1464,1394,1357,1293,1256,1254,1234,1195,1159,1167,1130,1075,1047,965,943,958,971,949,884,866,876,822,704,719]        \n",
    "}\n",
    "df = DataFrame(Stock_Market,columns=['Year','Month','Interest_Rate','Unemployment_Rate','Stock_Index_Price'])\n",
    "\n",
    "\n",
    "X = df[['Interest_Rate','Unemployment_Rate']] # here we have 2 variables for multiple regression. If you just want to use one variable for simple linear regression, then use X = df['Interest_Rate'] for example.Alternatively, you may add additional variables within the brackets\n",
    "Y = df['Stock_Index_Price']\n",
    "print(X.iloc[[0]])\n",
    "# with sklearn\n",
    "regr = linear_model.LinearRegression()\n",
    "regr.fit(X, Y)\n",
    "\n",
    "print('Intercept: \\n', regr.intercept_)\n",
    "print('Coefficients: \\n', regr.coef_)\n",
    "\n",
    "# prediction with sklearn\n",
    "New_Interest_Rate = 2.75\n",
    "New_Unemployment_Rate = 5.3\n",
    "print ('Predicted Stock Index Price: \\n', regr.predict([[New_Interest_Rate ,New_Unemployment_Rate]]))\n",
    "\n",
    "\n",
    "# with statsmodels\n",
    "X = sm.add_constant(X) # adding a constant\n",
    " \n",
    "model = sm.OLS(Y, X).fit()\n",
    "# Do a series of predictions on a list of data\n",
    "predictions = model.predict(X) \n",
    "# Do a prediction on a single pair\n",
    "predictions = model.predict(X.iloc[[0]]) \n",
    "prediction_a = model.predict((0, 2.75, 5.3)) \n",
    "    \n",
    "print_model = model.summary()\n",
    "print(print_model)\n",
    "print('DF', predictions)\n",
    "print('Tuple', prediction_a)\n",
    "\n",
    "\n",
    "plt.scatter(df['Stock_Index_Price'], df['Interest_Rate'], s=20, color='r', label='Sample')\n",
    "plt.title(r'Price vs Interest Rate')\n",
    "plt.xlabel(r'Stock Index Price')\n",
    "plt.ylabel(r'Interest Rate')\n",
    "plt.show()\n",
    "\n",
    "plt.scatter(df['Stock_Index_Price'], df['Unemployment_Rate'], s=20, color='r', label='Sample')\n",
    "plt.title(r'Price vs Unemployment Rate')\n",
    "plt.xlabel(r'Stock Index Price')\n",
    "plt.ylabel(r'Unemployment Rate')\n",
    "plt.show()"
   ]
  },
  {
   "cell_type": "code",
   "execution_count": 76,
   "metadata": {},
   "outputs": [
    {
     "name": "stdout",
     "output_type": "stream",
     "text": [
      "                            OLS Regression Results                            \n",
      "==============================================================================\n",
      "Dep. Variable:                      Y   R-squared:                       0.816\n",
      "Model:                            OLS   Adj. R-squared:                  0.808\n",
      "Method:                 Least Squares   F-statistic:                     103.9\n",
      "Date:                Fri, 02 Nov 2018   Prob (F-statistic):           5.57e-18\n",
      "Time:                        10:12:22   Log-Likelihood:                -392.41\n",
      "No. Observations:                  50   AIC:                             790.8\n",
      "Df Residuals:                      47   BIC:                             796.6\n",
      "Df Model:                           2                                         \n",
      "Covariance Type:            nonrobust                                         \n",
      "==============================================================================\n",
      "                 coef    std err          t      P>|t|      [0.025      0.975]\n",
      "------------------------------------------------------------------------------\n",
      "const       -879.9443    254.624     -3.456      0.001   -1392.181    -367.708\n",
      "X1            31.1410      8.734      3.566      0.001      13.571      48.711\n",
      "X2            16.3668      2.602      6.290      0.000      11.132      21.602\n",
      "==============================================================================\n",
      "Omnibus:                        5.405   Durbin-Watson:                   1.620\n",
      "Prob(Omnibus):                  0.067   Jarque-Bera (JB):                2.241\n",
      "Skew:                           0.148   Prob(JB):                        0.326\n",
      "Kurtosis:                       2.006   Cond. No.                         402.\n",
      "==============================================================================\n",
      "\n",
      "Warnings:\n",
      "[1] Standard Errors assume that the covariance matrix of the errors is correctly specified.\n"
     ]
    },
    {
     "data": {
      "image/png": "[encoded data removed]",
      "text/plain": [
       "<Figure size 432x288 with 1 Axes>"
      ]
     },
     "metadata": {
      "needs_background": "light"
     },
     "output_type": "display_data"
    },
    {
     "name": "stdout",
     "output_type": "stream",
     "text": [
      "   const   X1   X2\n",
      "0    1.0   50   25\n",
      "1    1.0  300   75\n",
      "2    1.0  325  100\n"
     ]
    },
    {
     "data": {
      "text/plain": [
       "0     1086.274638\n",
       "1     9689.859853\n",
       "2    10877.554299\n",
       "dtype: float64"
      ]
     },
     "execution_count": 76,
     "metadata": {},
     "output_type": "execute_result"
    }
   ],
   "source": [
    "x1 = [x + random.randrange(1,30) for x in range(50)]\n",
    "x2 = [x + random.randrange(1,100) for x in range(0, 150, 3)]\n",
    "y = list(range(0, 5000, 100))\n",
    "\n",
    "data  = {\n",
    "    'X1': x1,\n",
    "    'X2': x2,\n",
    "    'Y': y\n",
    "}\n",
    "\n",
    "df = DataFrame(data, columns=['X1', 'X2', 'Y'])\n",
    "\n",
    "X = df[['X1', 'X2']]\n",
    "Y = df['Y']\n",
    "\n",
    "X = sm.add_constant(X) # adding a constant\n",
    " \n",
    "model = sm.OLS(Y, X).fit()\n",
    "print(model.summary())\n",
    "\n",
    "plt.scatter(y, x1)\n",
    "plt.scatter(y, x2)\n",
    "plt.show()\n",
    "\n",
    "data  = {\n",
    "    'X1': [50, 300, 325],\n",
    "    'X2': [25, 75, 100]\n",
    "}\n",
    "df2 = DataFrame(data, columns=['X1', 'X2'])\n",
    "df2 = sm.add_constant(df2)\n",
    "print(df2)\n",
    "model.predict(df2)"
   ]
  },
  {
   "cell_type": "code",
   "execution_count": 124,
   "metadata": {},
   "outputs": [
    {
     "name": "stdout",
     "output_type": "stream",
     "text": [
      "                            OLS Regression Results                            \n",
      "==============================================================================\n",
      "Dep. Variable:                    mpg   R-squared:                       0.827\n",
      "Model:                            OLS   Adj. R-squared:                  0.808\n",
      "Method:                 Least Squares   F-statistic:                     44.57\n",
      "Date:                Fri, 02 Nov 2018   Prob (F-statistic):           8.65e-11\n",
      "Time:                        11:46:28   Log-Likelihood:                -74.321\n",
      "No. Observations:                  32   AIC:                             156.6\n",
      "Df Residuals:                      28   BIC:                             162.5\n",
      "Df Model:                           3                                         \n",
      "Covariance Type:            nonrobust                                         \n",
      "==============================================================================\n",
      "                 coef    std err          t      P>|t|      [0.025      0.975]\n",
      "------------------------------------------------------------------------------\n",
      "const         37.1055      2.111     17.579      0.000      32.782      41.429\n",
      "disp          -0.0009      0.010     -0.091      0.929      -0.022       0.020\n",
      "hp            -0.0312      0.011     -2.724      0.011      -0.055      -0.008\n",
      "wt            -3.8009      1.066     -3.565      0.001      -5.985      -1.617\n",
      "==============================================================================\n",
      "Omnibus:                        5.269   Durbin-Watson:                   1.367\n",
      "Prob(Omnibus):                  0.072   Jarque-Bera (JB):                4.038\n",
      "Skew:                           0.856   Prob(JB):                        0.133\n",
      "Kurtosis:                       3.310   Cond. No.                     1.50e+03\n",
      "==============================================================================\n",
      "\n",
      "Warnings:\n",
      "[1] Standard Errors assume that the covariance matrix of the errors is correctly specified.\n",
      "[2] The condition number is large, 1.5e+03. This might indicate that there are\n",
      "strong multicollinearity or other numerical problems.\n",
      "sm predict: [22.65986648]\n",
      "37.10550526903188 + ((-0.0009370090814654827) * 221) + ((-0.031156550829985717) * 102) + ((-3.800890582637614) * 2.91)\n",
      "22.659866481894007\n"
     ]
    },
    {
     "data": {
      "image/png": "[encoded data removed]",
      "text/plain": [
       "<Figure size 432x288 with 1 Axes>"
      ]
     },
     "metadata": {
      "needs_background": "light"
     },
     "output_type": "display_data"
    },
    {
     "data": {
      "image/png": "[encoded data removed]",
      "text/plain": [
       "<Figure size 432x288 with 1 Axes>"
      ]
     },
     "metadata": {
      "needs_background": "light"
     },
     "output_type": "display_data"
    },
    {
     "data": {
      "image/png": "[encoded data removed]",
      "text/plain": [
       "<Figure size 432x288 with 1 Axes>"
      ]
     },
     "metadata": {
      "needs_background": "light"
     },
     "output_type": "display_data"
    },
    {
     "data": {
      "image/png": "[encoded data removed]",
      "text/plain": [
       "<Figure size 432x288 with 1 Axes>"
      ]
     },
     "metadata": {
      "needs_background": "light"
     },
     "output_type": "display_data"
    }
   ],
   "source": [
    "data = {\n",
    "'Car' : [ 'Mazda RX4', 'Mazda RX4 Wag', 'Datsun 710', 'Hornet 4 Drive', 'Hornet Sportabout', 'Valiant', 'Duster 360', 'Merc 240D', 'Merc 230', 'Merc 280', 'Merc 280C', 'Merc 450SE', 'Merc 450SL', 'Merc 450SLC', 'Cadillac Fleetwood', 'Lincoln Continental', 'Chrysler Imperial', 'Fiat 128', 'Honda Civic', 'Toyota Corolla', 'Toyota Corona', 'Dodge Challenger', 'AMC Javelin', 'Camaro Z28', 'Pontiac Firebird', 'Fiat X1-9', 'Porsche 914-2', 'Lotus Europa', 'Ford Pantera L', 'Ferrari Dino', 'Maserati Bora', 'Volvo 142E'],\n",
    "'mpg' : [ 21.0, 21.0, 22.8, 21.4, 18.7, 18.1, 14.3, 24.4, 22.8, 19.2, 17.8, 16.4, 17.3, 15.2, 10.4, 10.4, 14.7, 32.4, 30.4, 33.9, 21.5, 15.5, 15.2, 13.3, 19.2, 27.3, 26.0, 30.4, 15.8, 19.7, 15.0, 21.4],\n",
    "'disp' : [ 160.0, 160.0, 108.0, 258.0, 360.0, 225.0, 360.0, 146.7, 140.8, 167.6, 167.6, 275.8, 275.8, 275.8, 472.0, 460.0, 440.0, 78.7, 75.7, 71.1, 120.1, 318.0, 304.0, 350.0, 400.0, 79.0, 120.3, 95.1, 351.0, 145.0, 301.0, 121.0],\n",
    "'hp' : [ 110, 110, 93, 110, 175, 105, 245, 62, 95, 123, 123, 180, 180, 180, 205, 215, 230, 66, 52, 65, 97, 150, 150, 245, 175, 66, 91, 113, 264, 175, 335, 109],\n",
    "'wt' : [ 2.620, 2.875, 2.320, 3.215, 3.440, 3.460, 3.570, 3.190, 3.150, 3.440, 3.440, 4.070, 3.730, 3.780, 5.250, 5.424, 5.345, 2.200, 1.615, 1.835, 2.465, 3.520, 3.435, 3.840, 3.845, 1.935, 2.140, 1.513, 3.170, 2.770, 3.570, 2.780]\n",
    "}\n",
    "df = DataFrame(data, columns=['Car', 'mpg', 'disp', 'hp', 'wt'])\n",
    "X = df[['disp', 'hp', 'wt']]\n",
    "Y = df['mpg']\n",
    "\n",
    "X = sm.add_constant(X) # adding a constant\n",
    "model = sm.OLS(Y, X).fit()\n",
    "print(model.summary())\n",
    "\n",
    "prediction = model.predict([1, 221, 102, 2.91])\n",
    "print('sm predict:', prediction)\n",
    "\n",
    "def predictor(coefs, disp, hp, wt):\n",
    "    print(f'{coefs.const} + (({coefs.disp}) * {disp}) + (({coefs.hp}) * {hp}) + (({coefs.wt}) * {wt})')\n",
    "    Y = coefs.const + ((coefs.disp) * disp) + ((coefs.hp) * hp) + ((coefs.wt) * wt)\n",
    "    print(Y)\n",
    "    \n",
    "predictor(model.params, 221, 102, 2.91)\n",
    "\n",
    "plt.scatter(data['mpg'], data['wt'])\n",
    "plt.xlabel('mpg')\n",
    "plt.ylabel('weight')\n",
    "plt.title('mpg vs weight')\n",
    "plt.show()\n",
    "plt.scatter(data['mpg'], data['disp'])\n",
    "plt.xlabel('mpg')\n",
    "plt.ylabel('displacement')\n",
    "plt.title('mpg vs displacement')\n",
    "plt.show()\n",
    "plt.scatter(data['mpg'], data['hp'])\n",
    "plt.xlabel('mpg')\n",
    "plt.ylabel('hp')\n",
    "plt.title('mpg vs hp')\n",
    "plt.show()"
   ]
  }
 ],
 "metadata": {
  "kernelspec": {
   "display_name": "Python 3",
   "language": "python",
   "name": "python3"
  },
  "language_info": {
   "codemirror_mode": {
    "name": "ipython",
    "version": 3
   },
   "file_extension": ".py",
   "mimetype": "text/x-python",
   "name": "python",
   "nbconvert_exporter": "python",
   "pygments_lexer": "ipython3",
   "version": "3.7.0"
  }
 },
 "nbformat": 4,
 "nbformat_minor": 2
}
